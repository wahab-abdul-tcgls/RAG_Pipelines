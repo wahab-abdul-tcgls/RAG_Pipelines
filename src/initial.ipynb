{
 "cells": [
  {
   "cell_type": "code",
   "execution_count": 14,
   "metadata": {},
   "outputs": [],
   "source": [
    "from dotenv import load_dotenv\n",
    "import os\n",
    "import boto3\n",
    "import bs4"
   ]
  },
  {
   "cell_type": "code",
   "execution_count": 17,
   "metadata": {},
   "outputs": [],
   "source": [
    "load_dotenv()\n",
    "TEXT_MODEL = os.getenv(\"TEXT_MODEL\")\n",
    "SERVICE_NAME = os.getenv(\"AWS_SERVICE_NAME\")\n",
    "REGION_NAME = os.getenv(\"AWS_REGION_NAME\")\n",
    "ACCESS_KEY_ID = os.getenv(\"AWS_ACCESS_KEY\")\n",
    "ACCESS_SECRET_KEY = os.getenv(\"AWS_SECRET_KEY\")\n",
    "os.environ['OPENAI_API_KEY']=os.getenv(\"OPENAI_API_KEY\")"
   ]
  },
  {
   "cell_type": "code",
   "execution_count": 12,
   "metadata": {},
   "outputs": [],
   "source": [
    "client = boto3.client(service_name=SERVICE_NAME,\n",
    "                       region_name = REGION_NAME,\n",
    "                       aws_access_key_id=ACCESS_KEY_ID,\n",
    "                       aws_secret_access_key=ACCESS_SECRET_KEY)"
   ]
  },
  {
   "cell_type": "code",
   "execution_count": 13,
   "metadata": {},
   "outputs": [],
   "source": [
    "def generate_ai_text(payload, max_tokens=256, temperature=1, top_p=0.8, top_k=50):\n",
    "    try:\n",
    "        prompt = get_prompt(payload)\n",
    "        model_id = TEXT_MODEL\n",
    "        body = {\n",
    "            \"prompt\": prompt,\n",
    "            \"max_tokens\": max_tokens,\n",
    "            \"temperature\": temperature,\n",
    "            \"top_p\": top_p,\n",
    "            \"top_k\": top_k\n",
    "        }\n",
    "\n",
    "        response = client.invoke_model(\n",
    "            modelId=model_id, \n",
    "            body=json.dumps(body)\n",
    "        )\n",
    "\n",
    "        response_body = json.loads(response[\"body\"].read())\n",
    "        outputs = response_body.get(\"outputs\")\n",
    "        generated_text = outputs[0]['text'].replace('\"', '')\n",
    "        generated_text = generated_text.split('\\n', 1)[0].strip()\n",
    "        \n",
    "        return generated_text\n",
    "    \n",
    "    except Exception as e:\n",
    "        return {\"error\": str(e)}"
   ]
  },
  {
   "cell_type": "code",
   "execution_count": 1,
   "metadata": {},
   "outputs": [
    {
     "data": {
      "text/plain": [
       "[Document(page_content=\"Rashid Khan, Naveen Ul Haq carry Afghanistan to World Cup semis\\nby  Cricbuzz Staff  •  Last updated on Tue, Jun 25, 2024, 11:44 AM\\nShare\\nTweet\\nRashid Khan picked a four-wicket haul in his team's win\\nRashid Khan picked a four-wicket haul in his team's win © AFP\\nTwo days after beating Australia, Afghanistan went one step further with an incredible win over Bangladesh to advance to the semifinal of the Men's T20 World Cup 2024. Once India beat Australia in the morning game, the requirement was clear: a win would take Afghanistan through ahead of the 2021 champions. However, Bangladesh came as a thorn in their flesh, putting in a commendable bowling performance to restrict Afghanistan to 115/5 in 20 overs. The conditions got a bit better with rain spells and Litton Das showed batting resolve but Rashid Khan (4 for 23) and Naveen Ul Haq (4 for 26) combined to take their side to the last-four.\\n\\nWhere the game was won:\\n\\nBangladesh would've comfortably gotten over the line if not for the collapse in the middle-overs. Contrastingly, Afghanistan did well to lose only one wicket in this phase even as they were in need of a move on from a slow start.\\n\\nThe middle-overs difference:\\n\\nParameters\\tAfghanistan\\tBangladesh\\nScore\\t53/1\\t48/5\\n4s/6s\\t5/1\\t6\\nRun Rate\\t5.89\\t5.34\\nAfghanistan\\n\\nPowerPlay: Slow start in tough conditions\\n\\nPhase score - 27/0 [RR: 4.50, 4s/6s: 3/0]\\n\\nIn tough batting conditions, Afghanistan openers Rahmanullah Gurbaz and Ibrahim Zadran made a watchful start to proceedings after Rashid Khan won the toss and decided to bat. Tanzim Hasan and Taskin Ahmed got steep bounce to make the Afghan duo uncomfortable in the first couple of overs. In the third from Tanzim, one short ball flew over Litton Das's reach behind the stumps for four byes before Ibrahim sent a length ball through covers. Shakib Al Hasan was brought on in the fifth over and almost struck straightaway, but Towhid Hridoy dropped a catch at short cover to give Ibrahim a life. Only one more four came in the PowerPlay as Bangladesh bowlers continued to be on point with their lengths.\\n\\nMiddle-overs: Gurbaz pushes but Bangladesh continue to restrict AFG\\n\\nPhase score - 53/1 [RR: 5.89, 4s/6s: 5/1]\\n\\nIn relative terms, the scoring rate improved but only marginally as the ball kept skidding through and made life tough for the batters. Gurbaz and Ibrahim still took their partnership past 50 runs for the fourth time in this World Cup (including two 100-plus stands) but Afghanistan endured a period where they didn't score a four or a six for 39 deliveries. Gurbaz aimed to end the scoring rut by dancing down against Shakib and hitting a six down the ground. But the dot balls kept piling up in the face of exceptional bowling. Bangladesh's best bowler in the tournament - Rishad Hossain - provided the first breakthrough when he had Ibrahim caught at long-off from an acrobatic take by Tanzim. Taskin then bowled a maiden over to Gurbaz, before the latter cut loose in the 14th over from Rishad to add 13 runs to the total. Shakib rounded up the middle overs with the end of his exceptional spell of 0 for 19 in 4 overs.\\n\\nDeath overs: Wickets, Rashid and rain\\n\\nPhase score - 35/4 [RR: 7.00, 4s/6s: 2/3]\\n\\nAfghanistan lost their way at the start of the death as wickets tumbled. Azmatullah Omarzai looked to cut a Mustafizur delivery and nicked it behind to Litton. Bangladesh had to review the onfield call to send the batter packing. Rishad then made decisive blows as he first lured Gurbaz into a mistimed shot that he tossed up and then saw the back of Gulbadin Naib with the same ploy. Soumya Sarkar took both the catches from deep point, the second one involving a forward sprint and a dive timed to perfection. With that Rishad took his wickets tally for this World Cup to 14, the most by a Bangladesh bowler in a single edition. While he finished with figures of 3 for 26, Mustafizur ended with 1 for 12. Rashid Khan swung his bat around a little at the end to drag his team past the 100-run mark but could only push as far as 115 which included a six off the final delivery. Bangladesh bowled 66 dot balls in all, to keep their side in with a chance for semifinal qualification. The players rushed indoors after the last-ball six as heavy rain interrupted play briefly.\\n\\nBangladesh\\n\\nPowerPlay: Bangladesh start well despite losing three\\n\\nPhase score - 46/3 [RR: 7.67, 4s/6s: 4/1]\\n\\nFollowing the rain break, the ball came onto the bat nicely for the Bangladesh openers and Litton Das took advantage of it in the very first over from Naveen Ul Haq. But Fazalhaq Farooqi got the ball to swing and trapped Tanzid Hasan leg before in the second over. Naveen came back well in his second over, dismissing Najmul Hossain and Shakib Al Hasan off successive deliveries. Najmul fell for change of pace, dragging his big shot to deep square leg while a leading edge off Shakib's bat went straight back to Naveen on the first ball he faced. Rain came down once again to force the players off the field in the middle of the fourth over. When they returned around 30 minutes later, Litton and Soumya Sarkar looked to continue from where they left off, even as Mohammad Nabi bowled an excellent over worth just three singles.\\n\\nMiddle-overs: Rashid triggers dramatic collapse\\n\\nPhase score - 48/5 [RR: 5.34, 4s/6s: 6/0]\\n\\nRashid Khan knocked back Sarkar's stumps with a skiddy arm ball to set in motion Bangladesh's middle-overs collapse. Fazalhaq Farooqi dropped a catch and Afghanistan endured some nervy moments on the field but Rashid was once again on hand to make inroads. In his second over, he got Towhid Hridoy to hole out to deep square leg, leaving Bangladesh at 64 for 5. Rashid bowled his third straight over and took out Mahmudullah next. It took a very good review to send the senior batter back as the on-field umpire didn't pick up on the faint nick. Rishad Hossain tried to slog sweep the first ball he faced and missed, giving Rashid his fourth wicket. There was another brief rain break that reduced the chase to 19 overs, with 114 (two fewer) to get. Afghanistan's bowling hero from two nights ago - Gulbadin Naib came on to dismiss Tanzim, leaving Afghanistan two wickets away from a semifinal spot.\\n\\nDeath-overs: Naveen Ul Haq denies Litton to take AFG through\\n\\nLitton watched a lot of the middle-overs from the other end as the Bangladesh line-up crashed and burned their way to eight down. He still didn't give up as he brought up a half-century in the 16th over with a sweep shot and remained resolute while Afghanistan hunted for the last two wickets. Taskin Ahmed kept Litton company while the latter slowly but surely ate into the deficit. The equation came down to 9 runs off 9 balls when Naveen cleaned up Taskin. Another spell of passing showers added to the intrigue as Bangladesh were behind as per DLS calculations. Play resumed though, and Mustafizur Rahman had to play out the last ball of the 19th over to allow Litton a chance to chase in the 20th. But that was not to be as Naveen trapped Mustafizur leg before to spark wild celebrations.\\n\\nBrief Scores:Afghanistan 115/5 in 20 overs (Rahmanullah Gurbaz 43; Rishad Hossain 3-26) beat Bangladesh 105 in 17.5 overs (Litton Das 54*; Rashid Khan 4-23, Naveen Ul Haq 4-26) by 8 runs (DLS Method)\\n\\nWhat next?\\n\\nBangladesh go back home, as do Australia. Afghanistan head to Trinidad where they face South Africa in the first semifinal.\", metadata={'source': 'cricbuzz.txt'})]"
      ]
     },
     "execution_count": 1,
     "metadata": {},
     "output_type": "execute_result"
    }
   ],
   "source": [
    "## Data Ingestion\n",
    "from langchain_community.document_loaders import TextLoader\n",
    "loader=TextLoader(\"cricbuzz.txt\")\n",
    "text_documents=loader.load()\n",
    "text_documents\n"
   ]
  },
  {
   "cell_type": "code",
   "execution_count": 2,
   "metadata": {},
   "outputs": [
    {
     "name": "stdout",
     "output_type": "stream",
     "text": [
      "Title: Final Fantasy 14 Version 7.0 Patch Notes Reveal Every Change Coming Alongside Dawntrail\n",
      "Description: Square Enix has released the preliminary patch notes for Final Fantasy 14's highly anticipated Patch 7.0, which will arrive soon alongside the Dawntrail expansion.\n",
      "Image URL: https://assets-prd.ignimgs.com/2024/06/23/ffxiv-dawntrail-prepare-1719180665855.jpg\n",
      "---\n",
      "Title: Elden Ring: Shadow of the Erdtree Hardest Bosses Ranked\n",
      "Description: Shadow of the Erdtree's bosses are some of From's toughest yet, but which is the hardest?\n",
      "Image URL: https://assets-prd.ignimgs.com/2024/06/25/er-bosses-blog-1719311521211.jpg\n",
      "---\n",
      "Title: Brutal Stardew Valley Mod Obliterates Your Farm If You Open The Wiki\n",
      "Description: A Stardew Valley player has taken inspiration from a satirical post to created a mod that deletes a player’s save file the moment that they open a Stardew Valley wiki.\n",
      "Image URL: https://assets-prd.ignimgs.com/2024/01/29/stardew-valley-1706533007365.jpg\n",
      "---\n",
      "Title: 6 Months Later, Palworld Dev Insists Nintendo Is Yet to Make a Complaint Despite ‘Pokémon Rip-Off’ Claims\n",
      "Description: The developer of Palworld has said Nintendo is yet to make a complaint after The Pokémon Company said it intended to investigate amid the “Pokémon rip-off” claims from earlier this year.\n",
      "Image URL: https://assets-prd.ignimgs.com/2024/01/16/palworld-first-mins-br-1705426685784.jpg\n",
      "---\n",
      "Title: Sega Allegedly Developing Jet Set Radio Remake as Screenshots and Gameplay Surfaces\n",
      "Description: Sega is allegedly developing a remake of the original Jet Set Radio as a separate project to the officially announced franchise reboot, as screenshots and footage have appeared online.\n",
      "Image URL: https://assets-prd.ignimgs.com/2022/04/19/jetsetradio-1650362485229.jpg\n",
      "---\n",
      "Title: Best PS5 and PlayStation Deals Right Now (June 2024)\n",
      "Description: Here are all the absolute best PS5 and PlayStation deals you can find right now.\n",
      "Image URL: https://assets-prd.ignimgs.com/2024/05/17/ps5-deals-cover-image-1715938700512.png\n",
      "---\n",
      "Title: If Mr. House Is in Fallout Season 2, Which New Vegas Ending Is Canon? Fans Have Their Theories\n",
      "Description: The showrunners of Prime Video’s Fallout TV show confirmed Robert House “will be involved” in Season 2, cementing the appearance of a major Fallout New Vegas character after a pre-war cameo in Season 1. But what does this mean for Fallout New Vegas' endings, and which is canon? Fans have their theories.\n",
      "Image URL: https://assets-prd.ignimgs.com/2024/06/25/new-vegas-1719310931377.jpg\n",
      "---\n",
      "Title: Helldivers 2 Update 01.000.403 Fixes Broken Spear\n",
      "Description: Helldivers 2 developer Arrowhead has issued a new patch for the PC and PlayStation 5 co-op shooter that fixes the Spear after a previous update had caused crash problems. Check out the patch notes for update 01.000.403.\n",
      "Image URL: https://assets-prd.ignimgs.com/2024/02/15/vlcsnap-2024-02-15-02h21m50s298-1707992541308.png\n",
      "---\n",
      "Title: Grab a 1TB Nintendo Switch Memory Card for Only $63.99 on Amazon\n",
      "Description: Enough space for the entire lifespan of your Switch\n",
      "Image URL: https://assets-prd.ignimgs.com/2024/06/24/teamgroupgo-1719260525690.jpg\n",
      "---\n",
      "Title: A Twitch Streamer Just Killed Off Two Shadow of the Erdtree Bosses Using Mind Control, and Zero Hands\n",
      "Description: Twitch streamer Perri Karyal has taken down two major Elden Ring, Shadow of the Erdtree bosses using a hands free 'mind control' virtual controller, which decodes electrical information fed directly from her brain in real time.\n",
      "Image URL: https://assets-prd.ignimgs.com/2024/06/21/liondancers-1718962033767.jpg\n",
      "---\n",
      "Title: Lorelei and the Laser Eyes Review\n",
      "Description: A standout puzzle game with an enticing story, clever riddles, and a perfectly eerie vibe.\n",
      "Image URL: https://assets-prd.ignimgs.com/2024/06/24/lorelei-blogroll-1719248226107.jpg\n",
      "---\n",
      "Title: Bloodborne Complete Guide 25th Anniversary Edition Is Up for Preorder\n",
      "Description: A beautiful new complete Bloodborne guide from Future Press is coming in September.\n",
      "Image URL: https://assets-prd.ignimgs.com/2024/06/24/bloodborne-guide-1719248661314.jpg\n",
      "---\n",
      "Title: How to Watch the 2024 Naraka Fest Direct\n",
      "Description: None\n",
      "Image URL: https://assets-prd.ignimgs.com/2024/06/24/ign-post-asset-1719211598223.png\n",
      "---\n",
      "Title: Dungeons & Dragons to Finally Let Players Drink Potions as a Bonus Action in One D&D\n",
      "Description: Dungeons & Dragons players will finally be able to drink potions as a Bonus Action in One D&D, meaning the popular homebrew and Baldur's Gate 3 mechanic is becoming an official rule in the next iteration of the game.\n",
      "Image URL: https://assets-prd.ignimgs.com/2024/06/03/2024-monster-manual-cover-blogroll-1717445074459.jpg\n",
      "---\n",
      "Title: Starfield on Xbox Series S Can Run at 60fps Thanks to Mods\n",
      "Description: Bethesda recently added a 60 frames per second option to Starfield on Xbox Series X, but left the Xbox Series S version out in the cold. Thankfully modders have stepped in to save the day, as they so often do.\n",
      "Image URL: https://assets-prd.ignimgs.com/2024/06/17/starfield-1718630078383.jpg\n",
      "---\n",
      "Title: Avowed Dev Once Again Asked About Skyrim Comparison, Points to The Outer Worlds\n",
      "Description: Fallout New Vegas, Grounded, and Pentiment developer Obsidian has responded to a question about the ongoing comparisons between its next game, Avowed, and The Elder Scrolls 5: Skyrim by pointing to another of its previous games: The Outer Worlds.\n",
      "Image URL: https://assets-prd.ignimgs.com/2024/06/24/avowed-1719241016701.jpg\n",
      "---\n",
      "Title: Blizzard Reveals Diablo 4 Season 5 PTR Details, Including New Questline Requirement\n",
      "Description: The Diablo 4 Season 5 PTR patch notes are out now. Here's what to expect.\n",
      "Image URL: https://assets-prd.ignimgs.com/2022/11/01/lilith-1280-1667264102109.jpg\n",
      "---\n",
      "Title: Ace Attorney Investigations Collection is Up for Preorder, Out September 6\n",
      "Description: Ace Attorney Investigations Collection is officially up for preorder, releasing September 6.\n",
      "Image URL: https://assets-prd.ignimgs.com/2024/06/24/ace-attorney-investigations-collection-preorder-guide-1719235110945.jpg\n",
      "---\n",
      "Title: Marvel vs. Capcom Fighting Collection: Arcade Classics Is Up for Preorder\n",
      "Description: Everything you need to know to preorder Marvel vs. Capcom Fighting Collection: Arcade Classics, including release window, pricing, where it's available, and which games are included.\n",
      "Image URL: https://assets-prd.ignimgs.com/2024/06/24/marvel-vs-capcom-1719236074214.jpeg\n",
      "---\n",
      "Title: War Thunder Dev Apologizes After Using Explosion From Space Shuttle Challenger Disaster in Key Art\n",
      "Description: War Thunder developer Gaijin Entertainment has apologized after using the explosion from the 1986 Space Shuttle Challenger disaster in key art for the World War 2 massively multiplayer online game.\n",
      "Image URL: https://assets-prd.ignimgs.com/2022/12/21/apexpredatorthumb-1671639243244.jpg\n",
      "---\n"
     ]
    }
   ],
   "source": [
    "import requests\n",
    "import xml.etree.ElementTree as ET\n",
    "\n",
    "# URL of the RSS feed\n",
    "url = \"https://feeds.feedburner.com/ign/games-all\"\n",
    "\n",
    "# Fetch the content of the RSS feed\n",
    "response = requests.get(url)\n",
    "response.raise_for_status()  # Raises an HTTPError for bad responses\n",
    "\n",
    "# Parse the XML content of the feed\n",
    "root = ET.fromstring(response.content)\n",
    "\n",
    "# Iterate through each item in the RSS feed\n",
    "for item in root.findall('.//item'):\n",
    "    title = item.find('title').text\n",
    "    description = item.find('description').text\n",
    "    image_url = item.find('.//media:content', namespaces={'media': 'http://search.yahoo.com/mrss/'}).attrib['url'] if item.find('.//media:content', namespaces={'media': 'http://search.yahoo.com/mrss/'}) is not None else 'No image available'\n",
    "    print(f'Title: {title}')\n",
    "    print(f'Description: {description}')\n",
    "    print(f'Image URL: {image_url}')\n",
    "    print('---')"
   ]
  },
  {
   "cell_type": "code",
   "execution_count": 15,
   "metadata": {},
   "outputs": [],
   "source": [
    "# web based loader\n",
    "from langchain_community.document_loaders import WebBaseLoader\n",
    "import bs4\n",
    "\n",
    "## load,chunk and index the content of the html page\n",
    "\n",
    "loader=WebBaseLoader(web_paths=(\"https://www.cricbuzz.com/cricket-news/130856/rashid-khan-naveen-ul-haq-carry-afghanistan-to-world-cup-semis\",),\n",
    "                     bs_kwargs=dict(parse_only=bs4.SoupStrainer(\n",
    "                         class_=(\"nws-dtl-hdln\",\"cb-nws-dtl-itms\")\n",
    "\n",
    "                     )))\n",
    "\n",
    "text_documents=loader.load()"
   ]
  },
  {
   "cell_type": "code",
   "execution_count": 16,
   "metadata": {},
   "outputs": [
    {
     "data": {
      "text/plain": [
       "[Document(page_content=\" Rashid Khan, Naveen Ul Haq carry Afghanistan to World Cup semis   Two days after beating Australia, Afghanistan went one step further with an incredible win over Bangladesh to advance to the semifinal of the Men's T20 World Cup 2024. Once India beat Australia in the morning game, the requirement was clear: a win would take Afghanistan through ahead of the 2021 champions. However, Bangladesh came as a thorn in their flesh, putting in a commendable bowling performance to restrict Afghanistan to 115/5 in 20 overs. The conditions got a bit better with rain spells and Litton Das showed batting resolve but Rashid Khan (4 for 23) and Naveen Ul Haq (4 for 26) combined to take their side to the last-four.    Where the game was won:    Bangladesh would've comfortably gotten over the line if not for the collapse in the middle-overs. Contrastingly, Afghanistan did well to lose only one wicket in this phase even as they were in need of a move on from a slow start.      The middle-overs difference:    Afghanistan    PowerPlay: Slow start in tough conditions    Phase score - 27/0 [RR: 4.50, 4s/6s: 3/0]    In tough batting conditions, Afghanistan openers Rahmanullah Gurbaz and Ibrahim Zadran made a watchful start to proceedings after Rashid Khan won the toss and decided to bat. Tanzim Hasan and Taskin Ahmed got steep bounce to make the Afghan duo uncomfortable in the first couple of overs. In the third from Tanzim, one short ball flew over Litton Das's reach behind the stumps for four byes before Ibrahim sent a length ball through covers. Shakib Al Hasan was brought on in the fifth over and almost struck straightaway, but Towhid Hridoy dropped a catch at short cover to give Ibrahim a life. Only one more four came in the PowerPlay as Bangladesh bowlers continued to be on point with their lengths.    Middle-overs: Gurbaz pushes but Bangladesh continue to restrict AFG    Phase score - 53/1 [RR: 5.89, 4s/6s: 5/1]    In relative terms, the scoring rate improved but only marginally as the ball kept skidding through and made life tough for the batters. Gurbaz and Ibrahim still took their partnership past 50 runs for the fourth time in this World Cup (including two 100-plus stands) but Afghanistan endured a period where they didn't score a four or a six for 39 deliveries. Gurbaz aimed to end the scoring rut by dancing down against Shakib and hitting a six down the ground. But the dot balls kept piling up in the face of exceptional bowling. Bangladesh's best bowler in the tournament - Rishad Hossain - provided the first breakthrough when he had Ibrahim caught at long-off from an acrobatic take by Tanzim. Taskin then bowled a maiden over to Gurbaz, before the latter cut loose in the 14th over from Rishad to add 13 runs to the total. Shakib rounded up the middle overs with the end of his exceptional spell of 0 for 19 in 4 overs.    Death overs: Wickets, Rashid and rain    Phase score - 35/4 [RR: 7.00, 4s/6s: 2/3]    Afghanistan lost their way at the start of the death as wickets tumbled. Azmatullah Omarzai looked to cut a Mustafizur delivery and nicked it behind to Litton. Bangladesh had to review the onfield call to send the batter packing. Rishad then made decisive blows as he first lured Gurbaz into a mistimed shot that he tossed up and then saw the back of Gulbadin Naib with the same ploy. Soumya Sarkar took both the catches from deep point, the second one involving a forward sprint and a dive timed to perfection. With that Rishad took his wickets tally for this World Cup to 14, the most by a Bangladesh bowler in a single edition. While he finished with figures of 3 for 26, Mustafizur ended with 1 for 12. Rashid Khan swung his bat around a little at the end to drag his team past the 100-run mark but could only push as far as 115 which included a six off the final delivery. Bangladesh bowled 66 dot balls in all, to keep their side in with a chance for semifinal qualification. The players rushed indoors after the last-ball six as heavy rain interrupted play briefly.    Bangladesh    PowerPlay: Bangladesh start well despite losing three    Phase score - 46/3 [RR: 7.67, 4s/6s: 4/1]    Following the rain break, the ball came onto the bat nicely for the Bangladesh openers and Litton Das took advantage of it in the very first over from Naveen Ul Haq. But Fazalhaq Farooqi got the ball to swing and trapped Tanzid Hasan leg before in the second over. Naveen came back well in his second over, dismissing Najmul Hossain and Shakib Al Hasan off successive deliveries. Najmul fell for change of pace, dragging his big shot to deep square leg while a leading edge off Shakib's bat went straight back to Naveen on the first ball he faced. Rain came down once again to force the players off the field in the middle of the fourth over. When they returned around 30 minutes later, Litton and Soumya Sarkar looked to continue from where they left off, even as Mohammad Nabi bowled an excellent over worth just three singles.    Middle-overs: Rashid triggers dramatic collapse    Phase score - 48/5 [RR: 5.34, 4s/6s: 6/0]    Rashid Khan knocked back Sarkar's stumps with a skiddy arm ball to set in motion Bangladesh's middle-overs collapse. Fazalhaq Farooqi dropped a catch and Afghanistan endured some nervy moments on the field but Rashid was once again on hand to make inroads. In his second over, he got Towhid Hridoy to hole out to deep square leg, leaving Bangladesh at 64 for 5. Rashid bowled his third straight over and took out Mahmudullah next. It took a very good review to send the senior batter back as the on-field umpire didn't pick up on the faint nick. Rishad Hossain tried to slog sweep the first ball he faced and missed, giving Rashid his fourth wicket. There was another brief rain break that reduced the chase to 19 overs, with 114 (two fewer) to get. Afghanistan's bowling hero from two nights ago - Gulbadin Naib came on to dismiss Tanzim, leaving Afghanistan two wickets away from a semifinal spot.    Death-overs: Naveen Ul Haq denies Litton to take AFG through    Litton watched a lot of the middle-overs from the other end as the Bangladesh line-up crashed and burned their way to eight down. He still didn't give up as he brought up a half-century in the 16th over with a sweep shot and remained resolute while Afghanistan hunted for the last two wickets. Taskin Ahmed kept Litton company while the latter slowly but surely ate into the deficit. The equation came down to 9 runs off 9 balls when Naveen cleaned up Taskin. Another spell of passing showers added to the intrigue as Bangladesh were behind as per DLS calculations. Play resumed though, and Mustafizur Rahman had to play out the last ball of the 19th over to allow Litton a chance to chase in the 20th. But that was not to be as Naveen trapped Mustafizur leg before to spark wild celebrations.    Brief Scores:Afghanistan 115/5 in 20 overs (Rahmanullah Gurbaz 43; Rishad Hossain 3-26) beat Bangladesh 105 in 17.5 overs (Litton Das 54*; Rashid Khan 4-23, Naveen Ul Haq 4-26) by 8 runs (DLS Method)    What next?    Bangladesh go back home, as do Australia. Afghanistan head to Trinidad where they face South Africa in the first semifinal.   ShareTweet \", metadata={'source': 'https://www.cricbuzz.com/cricket-news/130856/rashid-khan-naveen-ul-haq-carry-afghanistan-to-world-cup-semis'})]"
      ]
     },
     "execution_count": 16,
     "metadata": {},
     "output_type": "execute_result"
    }
   ],
   "source": [
    "text_documents"
   ]
  },
  {
   "cell_type": "code",
   "execution_count": null,
   "metadata": {},
   "outputs": [],
   "source": [
    "## Pdf reader\n",
    "from langchain_community.document_loaders import PyPDFLoader\n",
    "loader=PyPDFLoader('attention.pdf')\n",
    "docs=loader.load()"
   ]
  },
  {
   "cell_type": "code",
   "execution_count": 18,
   "metadata": {},
   "outputs": [
    {
     "data": {
      "text/plain": [
       "[Document(page_content=\"Rashid Khan, Naveen Ul Haq carry Afghanistan to World Cup semis   Two days after beating Australia, Afghanistan went one step further with an incredible win over Bangladesh to advance to the semifinal of the Men's T20 World Cup 2024. Once India beat Australia in the morning game, the requirement was clear: a win would take Afghanistan through ahead of the 2021 champions. However, Bangladesh came as a thorn in their flesh, putting in a commendable bowling performance to restrict Afghanistan to 115/5 in 20 overs. The conditions got a bit better with rain spells and Litton Das showed batting resolve but Rashid Khan (4 for 23) and Naveen Ul Haq (4 for 26) combined to take their side to the last-four.    Where the game was won:    Bangladesh would've comfortably gotten over the line if not for the collapse in the middle-overs. Contrastingly, Afghanistan did well to lose only one wicket in this phase even as they were in need of a move on from a slow start.      The middle-overs difference:\", metadata={'source': 'https://www.cricbuzz.com/cricket-news/130856/rashid-khan-naveen-ul-haq-carry-afghanistan-to-world-cup-semis'}),\n",
       " Document(page_content=\"the collapse in the middle-overs. Contrastingly, Afghanistan did well to lose only one wicket in this phase even as they were in need of a move on from a slow start.      The middle-overs difference:    Afghanistan    PowerPlay: Slow start in tough conditions    Phase score - 27/0 [RR: 4.50, 4s/6s: 3/0]    In tough batting conditions, Afghanistan openers Rahmanullah Gurbaz and Ibrahim Zadran made a watchful start to proceedings after Rashid Khan won the toss and decided to bat. Tanzim Hasan and Taskin Ahmed got steep bounce to make the Afghan duo uncomfortable in the first couple of overs. In the third from Tanzim, one short ball flew over Litton Das's reach behind the stumps for four byes before Ibrahim sent a length ball through covers. Shakib Al Hasan was brought on in the fifth over and almost struck straightaway, but Towhid Hridoy dropped a catch at short cover to give Ibrahim a life. Only one more four came in the PowerPlay as Bangladesh bowlers continued to be on point with\", metadata={'source': 'https://www.cricbuzz.com/cricket-news/130856/rashid-khan-naveen-ul-haq-carry-afghanistan-to-world-cup-semis'}),\n",
       " Document(page_content=\"and almost struck straightaway, but Towhid Hridoy dropped a catch at short cover to give Ibrahim a life. Only one more four came in the PowerPlay as Bangladesh bowlers continued to be on point with their lengths.    Middle-overs: Gurbaz pushes but Bangladesh continue to restrict AFG    Phase score - 53/1 [RR: 5.89, 4s/6s: 5/1]    In relative terms, the scoring rate improved but only marginally as the ball kept skidding through and made life tough for the batters. Gurbaz and Ibrahim still took their partnership past 50 runs for the fourth time in this World Cup (including two 100-plus stands) but Afghanistan endured a period where they didn't score a four or a six for 39 deliveries. Gurbaz aimed to end the scoring rut by dancing down against Shakib and hitting a six down the ground. But the dot balls kept piling up in the face of exceptional bowling. Bangladesh's best bowler in the tournament - Rishad Hossain - provided the first breakthrough when he had Ibrahim caught at long-off from\", metadata={'source': 'https://www.cricbuzz.com/cricket-news/130856/rashid-khan-naveen-ul-haq-carry-afghanistan-to-world-cup-semis'}),\n",
       " Document(page_content=\"dot balls kept piling up in the face of exceptional bowling. Bangladesh's best bowler in the tournament - Rishad Hossain - provided the first breakthrough when he had Ibrahim caught at long-off from an acrobatic take by Tanzim. Taskin then bowled a maiden over to Gurbaz, before the latter cut loose in the 14th over from Rishad to add 13 runs to the total. Shakib rounded up the middle overs with the end of his exceptional spell of 0 for 19 in 4 overs.    Death overs: Wickets, Rashid and rain    Phase score - 35/4 [RR: 7.00, 4s/6s: 2/3]    Afghanistan lost their way at the start of the death as wickets tumbled. Azmatullah Omarzai looked to cut a Mustafizur delivery and nicked it behind to Litton. Bangladesh had to review the onfield call to send the batter packing. Rishad then made decisive blows as he first lured Gurbaz into a mistimed shot that he tossed up and then saw the back of Gulbadin Naib with the same ploy. Soumya Sarkar took both the catches from deep point, the second one\", metadata={'source': 'https://www.cricbuzz.com/cricket-news/130856/rashid-khan-naveen-ul-haq-carry-afghanistan-to-world-cup-semis'}),\n",
       " Document(page_content='blows as he first lured Gurbaz into a mistimed shot that he tossed up and then saw the back of Gulbadin Naib with the same ploy. Soumya Sarkar took both the catches from deep point, the second one involving a forward sprint and a dive timed to perfection. With that Rishad took his wickets tally for this World Cup to 14, the most by a Bangladesh bowler in a single edition. While he finished with figures of 3 for 26, Mustafizur ended with 1 for 12. Rashid Khan swung his bat around a little at the end to drag his team past the 100-run mark but could only push as far as 115 which included a six off the final delivery. Bangladesh bowled 66 dot balls in all, to keep their side in with a chance for semifinal qualification. The players rushed indoors after the last-ball six as heavy rain interrupted play briefly.    Bangladesh    PowerPlay: Bangladesh start well despite losing three    Phase score - 46/3 [RR: 7.67, 4s/6s: 4/1]    Following the rain break, the ball came onto the bat nicely for', metadata={'source': 'https://www.cricbuzz.com/cricket-news/130856/rashid-khan-naveen-ul-haq-carry-afghanistan-to-world-cup-semis'})]"
      ]
     },
     "execution_count": 18,
     "metadata": {},
     "output_type": "execute_result"
    }
   ],
   "source": [
    "from langchain.text_splitter import RecursiveCharacterTextSplitter\n",
    "text_splitter=RecursiveCharacterTextSplitter(chunk_size=1000,chunk_overlap=200)\n",
    "documents=text_splitter.split_documents(text_documents)\n",
    "documents[:5]"
   ]
  },
  {
   "cell_type": "code",
   "execution_count": 19,
   "metadata": {},
   "outputs": [],
   "source": [
    "## Vector Embedding And Vector Store\n",
    "from langchain_openai import OpenAIEmbeddings\n",
    "from langchain_community.vectorstores import Chroma\n",
    "db = Chroma.from_documents(documents,OpenAIEmbeddings())"
   ]
  },
  {
   "cell_type": "code",
   "execution_count": 22,
   "metadata": {},
   "outputs": [
    {
     "name": "stdout",
     "output_type": "stream",
     "text": [
      "[Document(page_content=\"Rashid Khan, Naveen Ul Haq carry Afghanistan to World Cup semis   Two days after beating Australia, Afghanistan went one step further with an incredible win over Bangladesh to advance to the semifinal of the Men's T20 World Cup 2024. Once India beat Australia in the morning game, the requirement was clear: a win would take Afghanistan through ahead of the 2021 champions. However, Bangladesh came as a thorn in their flesh, putting in a commendable bowling performance to restrict Afghanistan to 115/5 in 20 overs. The conditions got a bit better with rain spells and Litton Das showed batting resolve but Rashid Khan (4 for 23) and Naveen Ul Haq (4 for 26) combined to take their side to the last-four.    Where the game was won:    Bangladesh would've comfortably gotten over the line if not for the collapse in the middle-overs. Contrastingly, Afghanistan did well to lose only one wicket in this phase even as they were in need of a move on from a slow start.      The middle-overs difference:\", metadata={'source': 'https://www.cricbuzz.com/cricket-news/130856/rashid-khan-naveen-ul-haq-carry-afghanistan-to-world-cup-semis'}), Document(page_content=\"nick. Rishad Hossain tried to slog sweep the first ball he faced and missed, giving Rashid his fourth wicket. There was another brief rain break that reduced the chase to 19 overs, with 114 (two fewer) to get. Afghanistan's bowling hero from two nights ago - Gulbadin Naib came on to dismiss Tanzim, leaving Afghanistan two wickets away from a semifinal spot.    Death-overs: Naveen Ul Haq denies Litton to take AFG through    Litton watched a lot of the middle-overs from the other end as the Bangladesh line-up crashed and burned their way to eight down. He still didn't give up as he brought up a half-century in the 16th over with a sweep shot and remained resolute while Afghanistan hunted for the last two wickets. Taskin Ahmed kept Litton company while the latter slowly but surely ate into the deficit. The equation came down to 9 runs off 9 balls when Naveen cleaned up Taskin. Another spell of passing showers added to the intrigue as Bangladesh were behind as per DLS calculations. Play\", metadata={'source': 'https://www.cricbuzz.com/cricket-news/130856/rashid-khan-naveen-ul-haq-carry-afghanistan-to-world-cup-semis'}), Document(page_content='blows as he first lured Gurbaz into a mistimed shot that he tossed up and then saw the back of Gulbadin Naib with the same ploy. Soumya Sarkar took both the catches from deep point, the second one involving a forward sprint and a dive timed to perfection. With that Rishad took his wickets tally for this World Cup to 14, the most by a Bangladesh bowler in a single edition. While he finished with figures of 3 for 26, Mustafizur ended with 1 for 12. Rashid Khan swung his bat around a little at the end to drag his team past the 100-run mark but could only push as far as 115 which included a six off the final delivery. Bangladesh bowled 66 dot balls in all, to keep their side in with a chance for semifinal qualification. The players rushed indoors after the last-ball six as heavy rain interrupted play briefly.    Bangladesh    PowerPlay: Bangladesh start well despite losing three    Phase score - 46/3 [RR: 7.67, 4s/6s: 4/1]    Following the rain break, the ball came onto the bat nicely for', metadata={'source': 'https://www.cricbuzz.com/cricket-news/130856/rashid-khan-naveen-ul-haq-carry-afghanistan-to-world-cup-semis'}), Document(page_content='the deficit. The equation came down to 9 runs off 9 balls when Naveen cleaned up Taskin. Another spell of passing showers added to the intrigue as Bangladesh were behind as per DLS calculations. Play resumed though, and Mustafizur Rahman had to play out the last ball of the 19th over to allow Litton a chance to chase in the 20th. But that was not to be as Naveen trapped Mustafizur leg before to spark wild celebrations.    Brief Scores:Afghanistan 115/5 in 20 overs (Rahmanullah Gurbaz 43; Rishad Hossain 3-26) beat Bangladesh 105 in 17.5 overs (Litton Das 54*; Rashid Khan 4-23, Naveen Ul Haq 4-26) by 8 runs (DLS Method)    What next?    Bangladesh go back home, as do Australia. Afghanistan head to Trinidad where they face South Africa in the first semifinal.   ShareTweet', metadata={'source': 'https://www.cricbuzz.com/cricket-news/130856/rashid-khan-naveen-ul-haq-carry-afghanistan-to-world-cup-semis'})]\n"
     ]
    }
   ],
   "source": [
    "query = \"Who WON THE MATCH\"\n",
    "retireved_results=db.similarity_search(query)\n",
    "print(retireved_results[0].page_content)"
   ]
  },
  {
   "cell_type": "code",
   "execution_count": null,
   "metadata": {},
   "outputs": [],
   "source": [
    "## FAISS Vector Database\n",
    "from langchain_community.vectorstores import FAISS\n",
    "db = FAISS.from_documents(documents[:15], OpenAIEmbeddings())"
   ]
  },
  {
   "cell_type": "code",
   "execution_count": null,
   "metadata": {},
   "outputs": [],
   "source": []
  },
  {
   "cell_type": "code",
   "execution_count": null,
   "metadata": {},
   "outputs": [],
   "source": []
  },
  {
   "cell_type": "code",
   "execution_count": null,
   "metadata": {},
   "outputs": [],
   "source": []
  },
  {
   "cell_type": "code",
   "execution_count": null,
   "metadata": {},
   "outputs": [],
   "source": []
  },
  {
   "cell_type": "code",
   "execution_count": null,
   "metadata": {},
   "outputs": [],
   "source": []
  },
  {
   "cell_type": "code",
   "execution_count": null,
   "metadata": {},
   "outputs": [],
   "source": []
  },
  {
   "cell_type": "code",
   "execution_count": null,
   "metadata": {},
   "outputs": [],
   "source": []
  },
  {
   "cell_type": "code",
   "execution_count": null,
   "metadata": {},
   "outputs": [],
   "source": []
  },
  {
   "cell_type": "code",
   "execution_count": null,
   "metadata": {},
   "outputs": [],
   "source": []
  },
  {
   "cell_type": "code",
   "execution_count": null,
   "metadata": {},
   "outputs": [],
   "source": []
  },
  {
   "cell_type": "code",
   "execution_count": null,
   "metadata": {},
   "outputs": [],
   "source": []
  },
  {
   "cell_type": "code",
   "execution_count": null,
   "metadata": {},
   "outputs": [],
   "source": []
  }
 ],
 "metadata": {
  "kernelspec": {
   "display_name": "Python 3",
   "language": "python",
   "name": "python3"
  },
  "language_info": {
   "codemirror_mode": {
    "name": "ipython",
    "version": 3
   },
   "file_extension": ".py",
   "mimetype": "text/x-python",
   "name": "python",
   "nbconvert_exporter": "python",
   "pygments_lexer": "ipython3",
   "version": "3.11.7"
  }
 },
 "nbformat": 4,
 "nbformat_minor": 2
}
