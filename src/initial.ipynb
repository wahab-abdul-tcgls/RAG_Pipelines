{
 "cells": [
  {
   "cell_type": "code",
   "execution_count": 12,
   "metadata": {},
   "outputs": [],
   "source": [
    "from dotenv import load_dotenv\n",
    "import os\n",
    "import boto3\n",
    "import bs4\n",
    "import json"
   ]
  },
  {
   "cell_type": "code",
   "execution_count": 13,
   "metadata": {},
   "outputs": [],
   "source": [
    "load_dotenv()\n",
    "TEXT_MODEL = os.getenv(\"TEXT_MODEL\")\n",
    "SERVICE_NAME = os.getenv(\"AWS_SERVICE_NAME\")\n",
    "REGION_NAME = os.getenv(\"AWS_REGION_NAME\")\n",
    "ACCESS_KEY_ID = os.getenv(\"AWS_ACCESS_KEY\")\n",
    "ACCESS_SECRET_KEY = os.getenv(\"AWS_SECRET_KEY\")\n",
    "os.environ['OPENAI_API_KEY']=os.getenv(\"OPENAI_API_KEY\")"
   ]
  },
  {
   "cell_type": "code",
   "execution_count": 14,
   "metadata": {},
   "outputs": [],
   "source": [
    "client = boto3.client(service_name=SERVICE_NAME,\n",
    "                       region_name = REGION_NAME,\n",
    "                       aws_access_key_id=ACCESS_KEY_ID,\n",
    "                       aws_secret_access_key=ACCESS_SECRET_KEY)"
   ]
  },
  {
   "cell_type": "code",
   "execution_count": 15,
   "metadata": {},
   "outputs": [],
   "source": [
    "def generate_ai_text(max_tokens=256, temperature=1, top_p=0.8, top_k=50):\n",
    "    try:\n",
    "        prompt = \"describe amazon\"\n",
    "        model_id = TEXT_MODEL\n",
    "        body = {\n",
    "            \"prompt\": prompt,\n",
    "            \"max_tokens\": max_tokens,\n",
    "            \"temperature\": temperature,\n",
    "            \"top_p\": top_p,\n",
    "            \"top_k\": top_k\n",
    "        }\n",
    "\n",
    "        response = client.invoke_model(\n",
    "            modelId=model_id, \n",
    "            body=json.dumps(body)\n",
    "        )\n",
    "\n",
    "        response_body = json.loads(response[\"body\"].read())\n",
    "        outputs = response_body.get(\"outputs\")\n",
    "        generated_text = outputs[0]['text'].replace('\"', '')\n",
    "        generated_text = generated_text.split('\\n', 1)[0].strip()\n",
    "        \n",
    "        return generated_text\n",
    "    \n",
    "    except Exception as e:\n",
    "        return {\"error\": str(e)}"
   ]
  },
  {
   "cell_type": "code",
   "execution_count": 16,
   "metadata": {},
   "outputs": [
    {
     "data": {
      "text/plain": [
       "{'error': 'An error occurred (UnrecognizedClientException) when calling the InvokeModel operation: The security token included in the request is invalid.'}"
      ]
     },
     "execution_count": 16,
     "metadata": {},
     "output_type": "execute_result"
    }
   ],
   "source": [
    "generate_ai_text()"
   ]
  },
  {
   "cell_type": "code",
   "execution_count": 1,
   "metadata": {},
   "outputs": [
    {
     "data": {
      "text/plain": [
       "[Document(page_content=\"Rashid Khan, Naveen Ul Haq carry Afghanistan to World Cup semis\\nby  Cricbuzz Staff  •  Last updated on Tue, Jun 25, 2024, 11:44 AM\\nShare\\nTweet\\nRashid Khan picked a four-wicket haul in his team's win\\nRashid Khan picked a four-wicket haul in his team's win © AFP\\nTwo days after beating Australia, Afghanistan went one step further with an incredible win over Bangladesh to advance to the semifinal of the Men's T20 World Cup 2024. Once India beat Australia in the morning game, the requirement was clear: a win would take Afghanistan through ahead of the 2021 champions. However, Bangladesh came as a thorn in their flesh, putting in a commendable bowling performance to restrict Afghanistan to 115/5 in 20 overs. The conditions got a bit better with rain spells and Litton Das showed batting resolve but Rashid Khan (4 for 23) and Naveen Ul Haq (4 for 26) combined to take their side to the last-four.\\n\\nWhere the game was won:\\n\\nBangladesh would've comfortably gotten over the line if not for the collapse in the middle-overs. Contrastingly, Afghanistan did well to lose only one wicket in this phase even as they were in need of a move on from a slow start.\\n\\nThe middle-overs difference:\\n\\nParameters\\tAfghanistan\\tBangladesh\\nScore\\t53/1\\t48/5\\n4s/6s\\t5/1\\t6\\nRun Rate\\t5.89\\t5.34\\nAfghanistan\\n\\nPowerPlay: Slow start in tough conditions\\n\\nPhase score - 27/0 [RR: 4.50, 4s/6s: 3/0]\\n\\nIn tough batting conditions, Afghanistan openers Rahmanullah Gurbaz and Ibrahim Zadran made a watchful start to proceedings after Rashid Khan won the toss and decided to bat. Tanzim Hasan and Taskin Ahmed got steep bounce to make the Afghan duo uncomfortable in the first couple of overs. In the third from Tanzim, one short ball flew over Litton Das's reach behind the stumps for four byes before Ibrahim sent a length ball through covers. Shakib Al Hasan was brought on in the fifth over and almost struck straightaway, but Towhid Hridoy dropped a catch at short cover to give Ibrahim a life. Only one more four came in the PowerPlay as Bangladesh bowlers continued to be on point with their lengths.\\n\\nMiddle-overs: Gurbaz pushes but Bangladesh continue to restrict AFG\\n\\nPhase score - 53/1 [RR: 5.89, 4s/6s: 5/1]\\n\\nIn relative terms, the scoring rate improved but only marginally as the ball kept skidding through and made life tough for the batters. Gurbaz and Ibrahim still took their partnership past 50 runs for the fourth time in this World Cup (including two 100-plus stands) but Afghanistan endured a period where they didn't score a four or a six for 39 deliveries. Gurbaz aimed to end the scoring rut by dancing down against Shakib and hitting a six down the ground. But the dot balls kept piling up in the face of exceptional bowling. Bangladesh's best bowler in the tournament - Rishad Hossain - provided the first breakthrough when he had Ibrahim caught at long-off from an acrobatic take by Tanzim. Taskin then bowled a maiden over to Gurbaz, before the latter cut loose in the 14th over from Rishad to add 13 runs to the total. Shakib rounded up the middle overs with the end of his exceptional spell of 0 for 19 in 4 overs.\\n\\nDeath overs: Wickets, Rashid and rain\\n\\nPhase score - 35/4 [RR: 7.00, 4s/6s: 2/3]\\n\\nAfghanistan lost their way at the start of the death as wickets tumbled. Azmatullah Omarzai looked to cut a Mustafizur delivery and nicked it behind to Litton. Bangladesh had to review the onfield call to send the batter packing. Rishad then made decisive blows as he first lured Gurbaz into a mistimed shot that he tossed up and then saw the back of Gulbadin Naib with the same ploy. Soumya Sarkar took both the catches from deep point, the second one involving a forward sprint and a dive timed to perfection. With that Rishad took his wickets tally for this World Cup to 14, the most by a Bangladesh bowler in a single edition. While he finished with figures of 3 for 26, Mustafizur ended with 1 for 12. Rashid Khan swung his bat around a little at the end to drag his team past the 100-run mark but could only push as far as 115 which included a six off the final delivery. Bangladesh bowled 66 dot balls in all, to keep their side in with a chance for semifinal qualification. The players rushed indoors after the last-ball six as heavy rain interrupted play briefly.\\n\\nBangladesh\\n\\nPowerPlay: Bangladesh start well despite losing three\\n\\nPhase score - 46/3 [RR: 7.67, 4s/6s: 4/1]\\n\\nFollowing the rain break, the ball came onto the bat nicely for the Bangladesh openers and Litton Das took advantage of it in the very first over from Naveen Ul Haq. But Fazalhaq Farooqi got the ball to swing and trapped Tanzid Hasan leg before in the second over. Naveen came back well in his second over, dismissing Najmul Hossain and Shakib Al Hasan off successive deliveries. Najmul fell for change of pace, dragging his big shot to deep square leg while a leading edge off Shakib's bat went straight back to Naveen on the first ball he faced. Rain came down once again to force the players off the field in the middle of the fourth over. When they returned around 30 minutes later, Litton and Soumya Sarkar looked to continue from where they left off, even as Mohammad Nabi bowled an excellent over worth just three singles.\\n\\nMiddle-overs: Rashid triggers dramatic collapse\\n\\nPhase score - 48/5 [RR: 5.34, 4s/6s: 6/0]\\n\\nRashid Khan knocked back Sarkar's stumps with a skiddy arm ball to set in motion Bangladesh's middle-overs collapse. Fazalhaq Farooqi dropped a catch and Afghanistan endured some nervy moments on the field but Rashid was once again on hand to make inroads. In his second over, he got Towhid Hridoy to hole out to deep square leg, leaving Bangladesh at 64 for 5. Rashid bowled his third straight over and took out Mahmudullah next. It took a very good review to send the senior batter back as the on-field umpire didn't pick up on the faint nick. Rishad Hossain tried to slog sweep the first ball he faced and missed, giving Rashid his fourth wicket. There was another brief rain break that reduced the chase to 19 overs, with 114 (two fewer) to get. Afghanistan's bowling hero from two nights ago - Gulbadin Naib came on to dismiss Tanzim, leaving Afghanistan two wickets away from a semifinal spot.\\n\\nDeath-overs: Naveen Ul Haq denies Litton to take AFG through\\n\\nLitton watched a lot of the middle-overs from the other end as the Bangladesh line-up crashed and burned their way to eight down. He still didn't give up as he brought up a half-century in the 16th over with a sweep shot and remained resolute while Afghanistan hunted for the last two wickets. Taskin Ahmed kept Litton company while the latter slowly but surely ate into the deficit. The equation came down to 9 runs off 9 balls when Naveen cleaned up Taskin. Another spell of passing showers added to the intrigue as Bangladesh were behind as per DLS calculations. Play resumed though, and Mustafizur Rahman had to play out the last ball of the 19th over to allow Litton a chance to chase in the 20th. But that was not to be as Naveen trapped Mustafizur leg before to spark wild celebrations.\\n\\nBrief Scores:Afghanistan 115/5 in 20 overs (Rahmanullah Gurbaz 43; Rishad Hossain 3-26) beat Bangladesh 105 in 17.5 overs (Litton Das 54*; Rashid Khan 4-23, Naveen Ul Haq 4-26) by 8 runs (DLS Method)\\n\\nWhat next?\\n\\nBangladesh go back home, as do Australia. Afghanistan head to Trinidad where they face South Africa in the first semifinal.\", metadata={'source': 'cricbuzz.txt'})]"
      ]
     },
     "execution_count": 1,
     "metadata": {},
     "output_type": "execute_result"
    }
   ],
   "source": [
    "## Data Ingestion\n",
    "from langchain_community.document_loaders import TextLoader\n",
    "loader=TextLoader(\"cricbuzz.txt\")\n",
    "text_documents=loader.load()\n",
    "text_documents\n"
   ]
  },
  {
   "cell_type": "code",
   "execution_count": 1,
   "metadata": {},
   "outputs": [
    {
     "name": "stdout",
     "output_type": "stream",
     "text": [
      "Title: Elden Ring: Shadow of the Erdtree Gets First Patch in Update 1.12.2\n",
      "Description: Elden Ring developer FromSoftware has released its first patch for the game following the release of Shadow of the Erdtree, bringing it up to Update 1.12.2.\n",
      "Image URL: https://assets-prd.ignimgs.com/2024/02/26/elden-ring-dlc-sale-ign-2-1708957363507.png\n",
      "---\n",
      "Title: Save 50% Off Unicorn Overlord for Nintendo Switch\n",
      "Description: The best console strategy game in recent history\n",
      "Image URL: https://assets-prd.ignimgs.com/2024/06/25/unicornoverlord3-1719343037851.jpg\n",
      "---\n",
      "Title: Gayming Awards 2024 Winners: Baldur's Gate 3 Wins Over Tears of the Kingdom and Spider-Man 2\n",
      "Description: The 2024 Gayming Awards winners have been revealed, with Larian Studios and its 2023 RPG Baldur's Gate 3, winning the most awards, including Game of the Year.\n",
      "Image URL: https://assets-prd.ignimgs.com/2024/06/25/baldursgate3-review-blogroll-1692393747093-1719327576662.jpg\n",
      "---\n",
      "Title: Luigi's Mansion 2 HD Developer Revealed to be Studio That Worked on Skyward Sword HD\n",
      "Description: A new report from Video Games Chronicle reveals that Skyward Sword HD developer Tantalus Media is the studio who worked on Luigi's Mansion 2 HD.\n",
      "Image URL: https://assets-prd.ignimgs.com/2024/06/20/luigismansion2hdoverviewtrailer-ign-blogroll-1718889301494.jpg\n",
      "---\n",
      "Title: Forza Horizon 4 Will be Delisted From Digital Stores in December\n",
      "Description: Forza Horizon 4 will be delisted from Steam and Xbox in December, with Playground Games revealing final plans for the Festival Playlists and more.\n",
      "Image URL: https://assets-prd.ignimgs.com/2021/06/28/fh4-super7-1280-1607351928207-1624906930118.jpg\n",
      "---\n",
      "Title: The Xbox Elite Series 2 Pro-Grade Controller With Component Pack Is $95 Today\n",
      "Description: MSRP $180 and the first time we've seen it for under $100\n",
      "Image URL: https://assets-prd.ignimgs.com/2024/06/25/xboxelitecontroller2-1719333098689.jpg\n",
      "---\n",
      "Title: Elden Ring Dataminers are Revealing All Sorts of Cool Shadow of the Erdtree NPC Secrets\n",
      "Description: Shadow of the Erdtree has been out for less than a week, yet Elden Ring dataminers are already hard at work unravelling the DLC's secrets and revealing what lies beneath the armor of the NPC characters and bosses that inhabit the land of shadow.\n",
      "Image URL: https://assets-prd.ignimgs.com/2024/06/21/liondancers-1718962033767.jpg\n",
      "---\n",
      "Title: Payday 3 Finally Getting 'Offline Mode' But It Requires Online to Play and Runs Worse Than Normal\n",
      "Description: Payday 3 developer Starbreeze Entertainment is finally adding what it's called an \"offline mode\" to the game but it requires an online connection to access and runs worse than normal.\n",
      "Image URL: https://assets-prd.ignimgs.com/2023/09/11/payday-3-thumb-1694473895086.jpg\n",
      "---\n",
      "Title: Tomb Raider's Lara Croft Is the Newest Survivor Joining the Dead by Daylight Roster\n",
      "Description: Behaviour Interactive announced today that the next survivor joining the Dead by Daylight roster is Tomb Raider protagonist Lara Croft, who will be available starting July 16. \n",
      "Image URL: https://assets-prd.ignimgs.com/2024/06/25/laracroftthumb-1719329722523.png\n",
      "---\n",
      "Title: Tekken Chief Katsuhiro Harada Gets Remarkably Candid Discussing Why Soul Calibur Disappeared\n",
      "Description: Tekken chief Katsuhiro Harada has explained why the Soul Calibur franchise died.\n",
      "Image URL: https://assets1.ignimgs.com/2018/10/16/soulcaliburvi-blogroll-01-1539726237707.jpg\n",
      "---\n",
      "Title: Supervive (Nee Project Loki) First Preview: A Bold New Battle Royale\n",
      "Description: With only an hour or so of rounds under my belt, I still have a lot to learn about Supervive. It’s a battle royale full of ideas, and some of the inspirations are pretty easy to identify - many games like it have big maps with hotspots worth fighting over for high level loot. But when it innovates on its own, like with its roster of dynamic and expressive characters, and lots of tactical options presented by its exciting movement system and roster of active and passive items, there’s no game quite like it.\n",
      "Image URL: https://assets-prd.ignimgs.com/2024/06/25/supervive-blogroll-1719275106849.jpg\n",
      "---\n",
      "Title: Epic Mickey: Rebrushed Release Date Confirmed\n",
      "Description: Disney's Epic Mickey: Rebrushed has a release date for PlayStation 4, PlayStation 5, Xbox One, Xbox Series X and S, Nintendo Switch, and PC.\n",
      "Image URL: https://assets-prd.ignimgs.com/2024/02/21/epicmickey-1708524898359.jpg\n",
      "---\n",
      "Title: PlayStation 5 Exclusive Stellar Blade Sells 1 Million Copies\n",
      "Description: PlayStation 5 action game Stellar Blade has sold more than one million copies, developer Shift Up has announced.\n",
      "Image URL: https://assets-prd.ignimgs.com/2024/04/25/stellarbladethumb-1714054573032.png\n",
      "---\n",
      "Title: EA Sports Reveals the Toughest Places to Play in College Football 25\n",
      "Description: EA Sports has revealed the top 25 toughest places to play in College Football 25, ahead of its July 19 release date.\n",
      "Image URL: https://assets-prd.ignimgs.com/2024/05/17/cfb25-pre-snap-recognition-1-webscreen-004-16x9-watermark-1715954266255.png\n",
      "---\n",
      "Title: Earth Defense Force 6 Preview: Absolutely Loaded With Bugs (in a Good Way)\n",
      "Description: Earth Defense Force 6 is still EDF at its core, certainly: Blow through missions, tweak your weapons, find favorites, find upgrades, get chewed up by a horde of monsters, get better, roll credits, unlock a new difficulty, and start the grind over against bigger nastier enemies with your new bigger, nastier weapons. There's a story here, but it's more of a B-movie story experience about laughing at the silly characters while getting ragdolled by giant ants, and any important story stuff is going to get repeated by random NPCs six or seven times because this is not a super-high-touch, pay-attention-at-all-times prestige television story or game. This is a chase-high-scores-on-the-couch, dead-tired-with-buddies-after-work game series.\n",
      "Image URL: https://assets-prd.ignimgs.com/2024/06/25/earthdefenseforce6-preview-blogroll-1719274306746.jpg\n",
      "---\n",
      "Title: The Best Power Banks for Switch Are Back on Sale For a Limited Time in the UK\n",
      "Description: The best power banks to use with your Steam Deck or Nintendo Switch is back on sale in the UK right now.\n",
      "Image URL: https://assets-prd.ignimgs.com/2024/06/25/best-switch-power-bank-ign-new-uk-2024-1719325874835.png\n",
      "---\n",
      "Title: GTA Online: Bottom Dollar Bounties Update Out Now — Here’s What It Does\n",
      "Description: GTA Online’s big summer 2024 update, called Bottom Dollar Bounties, is out now across PlayStation 5, PlayStation 4, Xbox Series X and S, Xbox One, and PC alongside the release of patch 1.69 for Grand Theft Auto 5.\n",
      "Image URL: https://assets-prd.ignimgs.com/2024/06/25/gta-online-bail-enforcement-office-1719322971048.jpg\n",
      "---\n",
      "Title: Midnight Murder Club Revealed from Knockout City Developers\n",
      "Description: Velan Studios, makers of Knockout City, Mario Kart Live: Home Circuit, and Hot Wheels Rift Rally, has announced Midnight Murder Club, a new six-player first-person hide-and-seek multiplayer game where all you'll have in order to survive against other players are a flashlight, a revolver, and your wits. It's due out on PC via Steam in Fall 2024.\n",
      "Image URL: https://assets-prd.ignimgs.com/2024/06/24/midnightmurderclub-blogroll-1719252657665.jpg\n",
      "---\n",
      "Title: Best TVs for PS5 2024: Pick The Right TV For Your PlayStation 5\n",
      "Description: The PS5 is full of gorgeous games, so you should pair it with a TV that can breathe the most life into every frame.\n",
      "Image URL: https://assets-prd.ignimgs.com/2023/10/30/u8k-1698703229606.jpg\n",
      "---\n",
      "Title: Luigi’s Mansion 2 HD Review\n",
      "Description: Luigi’s Mansion 2 HD is a great installment in Nintendo’s spectre-snaring series, even if it’s not the best one you can play on the Switch.\n",
      "Image URL: https://assets-prd.ignimgs.com/2024/06/25/luigi2hd-review-blogroll-1719273609965.jpg\n",
      "---\n"
     ]
    }
   ],
   "source": [
    "import requests\n",
    "import xml.etree.ElementTree as ET\n",
    "\n",
    "# URL of the RSS feed\n",
    "url = \"https://feeds.feedburner.com/ign/games-all\"\n",
    "\n",
    "# Fetch the content of the RSS feed\n",
    "response = requests.get(url)\n",
    "response.raise_for_status()  # Raises an HTTPError for bad responses\n",
    "\n",
    "# Parse the XML content of the feed\n",
    "root = ET.fromstring(response.content)\n",
    "\n",
    "# Iterate through each item in the RSS feed\n",
    "for item in root.findall('.//item'):\n",
    "    title = item.find('title').text\n",
    "    description = item.find('description').text\n",
    "    image_url = item.find('.//media:content', namespaces={'media': 'http://search.yahoo.com/mrss/'}).attrib['url'] if item.find('.//media:content', namespaces={'media': 'http://search.yahoo.com/mrss/'}) is not None else 'No image available'\n",
    "    print(f'Title: {title}')\n",
    "    print(f'Description: {description}')\n",
    "    print(f'Image URL: {image_url}')\n",
    "    print('---')"
   ]
  },
  {
   "cell_type": "code",
   "execution_count": 15,
   "metadata": {},
   "outputs": [],
   "source": [
    "# web based loader\n",
    "from langchain_community.document_loaders import WebBaseLoader\n",
    "import bs4\n",
    "\n",
    "## load,chunk and index the content of the html page\n",
    "\n",
    "loader=WebBaseLoader(web_paths=(\"https://www.cricbuzz.com/cricket-news/130856/rashid-khan-naveen-ul-haq-carry-afghanistan-to-world-cup-semis\",),\n",
    "                     bs_kwargs=dict(parse_only=bs4.SoupStrainer(\n",
    "                         class_=(\"nws-dtl-hdln\",\"cb-nws-dtl-itms\")\n",
    "\n",
    "                     )))\n",
    "\n",
    "text_documents=loader.load()"
   ]
  },
  {
   "cell_type": "code",
   "execution_count": 16,
   "metadata": {},
   "outputs": [
    {
     "data": {
      "text/plain": [
       "[Document(page_content=\" Rashid Khan, Naveen Ul Haq carry Afghanistan to World Cup semis   Two days after beating Australia, Afghanistan went one step further with an incredible win over Bangladesh to advance to the semifinal of the Men's T20 World Cup 2024. Once India beat Australia in the morning game, the requirement was clear: a win would take Afghanistan through ahead of the 2021 champions. However, Bangladesh came as a thorn in their flesh, putting in a commendable bowling performance to restrict Afghanistan to 115/5 in 20 overs. The conditions got a bit better with rain spells and Litton Das showed batting resolve but Rashid Khan (4 for 23) and Naveen Ul Haq (4 for 26) combined to take their side to the last-four.    Where the game was won:    Bangladesh would've comfortably gotten over the line if not for the collapse in the middle-overs. Contrastingly, Afghanistan did well to lose only one wicket in this phase even as they were in need of a move on from a slow start.      The middle-overs difference:    Afghanistan    PowerPlay: Slow start in tough conditions    Phase score - 27/0 [RR: 4.50, 4s/6s: 3/0]    In tough batting conditions, Afghanistan openers Rahmanullah Gurbaz and Ibrahim Zadran made a watchful start to proceedings after Rashid Khan won the toss and decided to bat. Tanzim Hasan and Taskin Ahmed got steep bounce to make the Afghan duo uncomfortable in the first couple of overs. In the third from Tanzim, one short ball flew over Litton Das's reach behind the stumps for four byes before Ibrahim sent a length ball through covers. Shakib Al Hasan was brought on in the fifth over and almost struck straightaway, but Towhid Hridoy dropped a catch at short cover to give Ibrahim a life. Only one more four came in the PowerPlay as Bangladesh bowlers continued to be on point with their lengths.    Middle-overs: Gurbaz pushes but Bangladesh continue to restrict AFG    Phase score - 53/1 [RR: 5.89, 4s/6s: 5/1]    In relative terms, the scoring rate improved but only marginally as the ball kept skidding through and made life tough for the batters. Gurbaz and Ibrahim still took their partnership past 50 runs for the fourth time in this World Cup (including two 100-plus stands) but Afghanistan endured a period where they didn't score a four or a six for 39 deliveries. Gurbaz aimed to end the scoring rut by dancing down against Shakib and hitting a six down the ground. But the dot balls kept piling up in the face of exceptional bowling. Bangladesh's best bowler in the tournament - Rishad Hossain - provided the first breakthrough when he had Ibrahim caught at long-off from an acrobatic take by Tanzim. Taskin then bowled a maiden over to Gurbaz, before the latter cut loose in the 14th over from Rishad to add 13 runs to the total. Shakib rounded up the middle overs with the end of his exceptional spell of 0 for 19 in 4 overs.    Death overs: Wickets, Rashid and rain    Phase score - 35/4 [RR: 7.00, 4s/6s: 2/3]    Afghanistan lost their way at the start of the death as wickets tumbled. Azmatullah Omarzai looked to cut a Mustafizur delivery and nicked it behind to Litton. Bangladesh had to review the onfield call to send the batter packing. Rishad then made decisive blows as he first lured Gurbaz into a mistimed shot that he tossed up and then saw the back of Gulbadin Naib with the same ploy. Soumya Sarkar took both the catches from deep point, the second one involving a forward sprint and a dive timed to perfection. With that Rishad took his wickets tally for this World Cup to 14, the most by a Bangladesh bowler in a single edition. While he finished with figures of 3 for 26, Mustafizur ended with 1 for 12. Rashid Khan swung his bat around a little at the end to drag his team past the 100-run mark but could only push as far as 115 which included a six off the final delivery. Bangladesh bowled 66 dot balls in all, to keep their side in with a chance for semifinal qualification. The players rushed indoors after the last-ball six as heavy rain interrupted play briefly.    Bangladesh    PowerPlay: Bangladesh start well despite losing three    Phase score - 46/3 [RR: 7.67, 4s/6s: 4/1]    Following the rain break, the ball came onto the bat nicely for the Bangladesh openers and Litton Das took advantage of it in the very first over from Naveen Ul Haq. But Fazalhaq Farooqi got the ball to swing and trapped Tanzid Hasan leg before in the second over. Naveen came back well in his second over, dismissing Najmul Hossain and Shakib Al Hasan off successive deliveries. Najmul fell for change of pace, dragging his big shot to deep square leg while a leading edge off Shakib's bat went straight back to Naveen on the first ball he faced. Rain came down once again to force the players off the field in the middle of the fourth over. When they returned around 30 minutes later, Litton and Soumya Sarkar looked to continue from where they left off, even as Mohammad Nabi bowled an excellent over worth just three singles.    Middle-overs: Rashid triggers dramatic collapse    Phase score - 48/5 [RR: 5.34, 4s/6s: 6/0]    Rashid Khan knocked back Sarkar's stumps with a skiddy arm ball to set in motion Bangladesh's middle-overs collapse. Fazalhaq Farooqi dropped a catch and Afghanistan endured some nervy moments on the field but Rashid was once again on hand to make inroads. In his second over, he got Towhid Hridoy to hole out to deep square leg, leaving Bangladesh at 64 for 5. Rashid bowled his third straight over and took out Mahmudullah next. It took a very good review to send the senior batter back as the on-field umpire didn't pick up on the faint nick. Rishad Hossain tried to slog sweep the first ball he faced and missed, giving Rashid his fourth wicket. There was another brief rain break that reduced the chase to 19 overs, with 114 (two fewer) to get. Afghanistan's bowling hero from two nights ago - Gulbadin Naib came on to dismiss Tanzim, leaving Afghanistan two wickets away from a semifinal spot.    Death-overs: Naveen Ul Haq denies Litton to take AFG through    Litton watched a lot of the middle-overs from the other end as the Bangladesh line-up crashed and burned their way to eight down. He still didn't give up as he brought up a half-century in the 16th over with a sweep shot and remained resolute while Afghanistan hunted for the last two wickets. Taskin Ahmed kept Litton company while the latter slowly but surely ate into the deficit. The equation came down to 9 runs off 9 balls when Naveen cleaned up Taskin. Another spell of passing showers added to the intrigue as Bangladesh were behind as per DLS calculations. Play resumed though, and Mustafizur Rahman had to play out the last ball of the 19th over to allow Litton a chance to chase in the 20th. But that was not to be as Naveen trapped Mustafizur leg before to spark wild celebrations.    Brief Scores:Afghanistan 115/5 in 20 overs (Rahmanullah Gurbaz 43; Rishad Hossain 3-26) beat Bangladesh 105 in 17.5 overs (Litton Das 54*; Rashid Khan 4-23, Naveen Ul Haq 4-26) by 8 runs (DLS Method)    What next?    Bangladesh go back home, as do Australia. Afghanistan head to Trinidad where they face South Africa in the first semifinal.   ShareTweet \", metadata={'source': 'https://www.cricbuzz.com/cricket-news/130856/rashid-khan-naveen-ul-haq-carry-afghanistan-to-world-cup-semis'})]"
      ]
     },
     "execution_count": 16,
     "metadata": {},
     "output_type": "execute_result"
    }
   ],
   "source": [
    "text_documents"
   ]
  },
  {
   "cell_type": "code",
   "execution_count": null,
   "metadata": {},
   "outputs": [],
   "source": [
    "## Pdf reader\n",
    "from langchain_community.document_loaders import PyPDFLoader\n",
    "loader=PyPDFLoader('attention.pdf')\n",
    "docs=loader.load()"
   ]
  },
  {
   "cell_type": "code",
   "execution_count": 18,
   "metadata": {},
   "outputs": [
    {
     "data": {
      "text/plain": [
       "[Document(page_content=\"Rashid Khan, Naveen Ul Haq carry Afghanistan to World Cup semis   Two days after beating Australia, Afghanistan went one step further with an incredible win over Bangladesh to advance to the semifinal of the Men's T20 World Cup 2024. Once India beat Australia in the morning game, the requirement was clear: a win would take Afghanistan through ahead of the 2021 champions. However, Bangladesh came as a thorn in their flesh, putting in a commendable bowling performance to restrict Afghanistan to 115/5 in 20 overs. The conditions got a bit better with rain spells and Litton Das showed batting resolve but Rashid Khan (4 for 23) and Naveen Ul Haq (4 for 26) combined to take their side to the last-four.    Where the game was won:    Bangladesh would've comfortably gotten over the line if not for the collapse in the middle-overs. Contrastingly, Afghanistan did well to lose only one wicket in this phase even as they were in need of a move on from a slow start.      The middle-overs difference:\", metadata={'source': 'https://www.cricbuzz.com/cricket-news/130856/rashid-khan-naveen-ul-haq-carry-afghanistan-to-world-cup-semis'}),\n",
       " Document(page_content=\"the collapse in the middle-overs. Contrastingly, Afghanistan did well to lose only one wicket in this phase even as they were in need of a move on from a slow start.      The middle-overs difference:    Afghanistan    PowerPlay: Slow start in tough conditions    Phase score - 27/0 [RR: 4.50, 4s/6s: 3/0]    In tough batting conditions, Afghanistan openers Rahmanullah Gurbaz and Ibrahim Zadran made a watchful start to proceedings after Rashid Khan won the toss and decided to bat. Tanzim Hasan and Taskin Ahmed got steep bounce to make the Afghan duo uncomfortable in the first couple of overs. In the third from Tanzim, one short ball flew over Litton Das's reach behind the stumps for four byes before Ibrahim sent a length ball through covers. Shakib Al Hasan was brought on in the fifth over and almost struck straightaway, but Towhid Hridoy dropped a catch at short cover to give Ibrahim a life. Only one more four came in the PowerPlay as Bangladesh bowlers continued to be on point with\", metadata={'source': 'https://www.cricbuzz.com/cricket-news/130856/rashid-khan-naveen-ul-haq-carry-afghanistan-to-world-cup-semis'}),\n",
       " Document(page_content=\"and almost struck straightaway, but Towhid Hridoy dropped a catch at short cover to give Ibrahim a life. Only one more four came in the PowerPlay as Bangladesh bowlers continued to be on point with their lengths.    Middle-overs: Gurbaz pushes but Bangladesh continue to restrict AFG    Phase score - 53/1 [RR: 5.89, 4s/6s: 5/1]    In relative terms, the scoring rate improved but only marginally as the ball kept skidding through and made life tough for the batters. Gurbaz and Ibrahim still took their partnership past 50 runs for the fourth time in this World Cup (including two 100-plus stands) but Afghanistan endured a period where they didn't score a four or a six for 39 deliveries. Gurbaz aimed to end the scoring rut by dancing down against Shakib and hitting a six down the ground. But the dot balls kept piling up in the face of exceptional bowling. Bangladesh's best bowler in the tournament - Rishad Hossain - provided the first breakthrough when he had Ibrahim caught at long-off from\", metadata={'source': 'https://www.cricbuzz.com/cricket-news/130856/rashid-khan-naveen-ul-haq-carry-afghanistan-to-world-cup-semis'}),\n",
       " Document(page_content=\"dot balls kept piling up in the face of exceptional bowling. Bangladesh's best bowler in the tournament - Rishad Hossain - provided the first breakthrough when he had Ibrahim caught at long-off from an acrobatic take by Tanzim. Taskin then bowled a maiden over to Gurbaz, before the latter cut loose in the 14th over from Rishad to add 13 runs to the total. Shakib rounded up the middle overs with the end of his exceptional spell of 0 for 19 in 4 overs.    Death overs: Wickets, Rashid and rain    Phase score - 35/4 [RR: 7.00, 4s/6s: 2/3]    Afghanistan lost their way at the start of the death as wickets tumbled. Azmatullah Omarzai looked to cut a Mustafizur delivery and nicked it behind to Litton. Bangladesh had to review the onfield call to send the batter packing. Rishad then made decisive blows as he first lured Gurbaz into a mistimed shot that he tossed up and then saw the back of Gulbadin Naib with the same ploy. Soumya Sarkar took both the catches from deep point, the second one\", metadata={'source': 'https://www.cricbuzz.com/cricket-news/130856/rashid-khan-naveen-ul-haq-carry-afghanistan-to-world-cup-semis'}),\n",
       " Document(page_content='blows as he first lured Gurbaz into a mistimed shot that he tossed up and then saw the back of Gulbadin Naib with the same ploy. Soumya Sarkar took both the catches from deep point, the second one involving a forward sprint and a dive timed to perfection. With that Rishad took his wickets tally for this World Cup to 14, the most by a Bangladesh bowler in a single edition. While he finished with figures of 3 for 26, Mustafizur ended with 1 for 12. Rashid Khan swung his bat around a little at the end to drag his team past the 100-run mark but could only push as far as 115 which included a six off the final delivery. Bangladesh bowled 66 dot balls in all, to keep their side in with a chance for semifinal qualification. The players rushed indoors after the last-ball six as heavy rain interrupted play briefly.    Bangladesh    PowerPlay: Bangladesh start well despite losing three    Phase score - 46/3 [RR: 7.67, 4s/6s: 4/1]    Following the rain break, the ball came onto the bat nicely for', metadata={'source': 'https://www.cricbuzz.com/cricket-news/130856/rashid-khan-naveen-ul-haq-carry-afghanistan-to-world-cup-semis'})]"
      ]
     },
     "execution_count": 18,
     "metadata": {},
     "output_type": "execute_result"
    }
   ],
   "source": [
    "from langchain.text_splitter import RecursiveCharacterTextSplitter\n",
    "text_splitter=RecursiveCharacterTextSplitter(chunk_size=1000,chunk_overlap=200)\n",
    "documents=text_splitter.split_documents(text_documents)\n",
    "documents[:5]"
   ]
  },
  {
   "cell_type": "code",
   "execution_count": 19,
   "metadata": {},
   "outputs": [],
   "source": [
    "## Vector Embedding And Vector Store\n",
    "from langchain_openai import OpenAIEmbeddings\n",
    "from langchain_community.vectorstores import Chroma\n",
    "db = Chroma.from_documents(documents,OpenAIEmbeddings())"
   ]
  },
  {
   "cell_type": "code",
   "execution_count": 22,
   "metadata": {},
   "outputs": [
    {
     "name": "stdout",
     "output_type": "stream",
     "text": [
      "[Document(page_content=\"Rashid Khan, Naveen Ul Haq carry Afghanistan to World Cup semis   Two days after beating Australia, Afghanistan went one step further with an incredible win over Bangladesh to advance to the semifinal of the Men's T20 World Cup 2024. Once India beat Australia in the morning game, the requirement was clear: a win would take Afghanistan through ahead of the 2021 champions. However, Bangladesh came as a thorn in their flesh, putting in a commendable bowling performance to restrict Afghanistan to 115/5 in 20 overs. The conditions got a bit better with rain spells and Litton Das showed batting resolve but Rashid Khan (4 for 23) and Naveen Ul Haq (4 for 26) combined to take their side to the last-four.    Where the game was won:    Bangladesh would've comfortably gotten over the line if not for the collapse in the middle-overs. Contrastingly, Afghanistan did well to lose only one wicket in this phase even as they were in need of a move on from a slow start.      The middle-overs difference:\", metadata={'source': 'https://www.cricbuzz.com/cricket-news/130856/rashid-khan-naveen-ul-haq-carry-afghanistan-to-world-cup-semis'}), Document(page_content=\"nick. Rishad Hossain tried to slog sweep the first ball he faced and missed, giving Rashid his fourth wicket. There was another brief rain break that reduced the chase to 19 overs, with 114 (two fewer) to get. Afghanistan's bowling hero from two nights ago - Gulbadin Naib came on to dismiss Tanzim, leaving Afghanistan two wickets away from a semifinal spot.    Death-overs: Naveen Ul Haq denies Litton to take AFG through    Litton watched a lot of the middle-overs from the other end as the Bangladesh line-up crashed and burned their way to eight down. He still didn't give up as he brought up a half-century in the 16th over with a sweep shot and remained resolute while Afghanistan hunted for the last two wickets. Taskin Ahmed kept Litton company while the latter slowly but surely ate into the deficit. The equation came down to 9 runs off 9 balls when Naveen cleaned up Taskin. Another spell of passing showers added to the intrigue as Bangladesh were behind as per DLS calculations. Play\", metadata={'source': 'https://www.cricbuzz.com/cricket-news/130856/rashid-khan-naveen-ul-haq-carry-afghanistan-to-world-cup-semis'}), Document(page_content='blows as he first lured Gurbaz into a mistimed shot that he tossed up and then saw the back of Gulbadin Naib with the same ploy. Soumya Sarkar took both the catches from deep point, the second one involving a forward sprint and a dive timed to perfection. With that Rishad took his wickets tally for this World Cup to 14, the most by a Bangladesh bowler in a single edition. While he finished with figures of 3 for 26, Mustafizur ended with 1 for 12. Rashid Khan swung his bat around a little at the end to drag his team past the 100-run mark but could only push as far as 115 which included a six off the final delivery. Bangladesh bowled 66 dot balls in all, to keep their side in with a chance for semifinal qualification. The players rushed indoors after the last-ball six as heavy rain interrupted play briefly.    Bangladesh    PowerPlay: Bangladesh start well despite losing three    Phase score - 46/3 [RR: 7.67, 4s/6s: 4/1]    Following the rain break, the ball came onto the bat nicely for', metadata={'source': 'https://www.cricbuzz.com/cricket-news/130856/rashid-khan-naveen-ul-haq-carry-afghanistan-to-world-cup-semis'}), Document(page_content='the deficit. The equation came down to 9 runs off 9 balls when Naveen cleaned up Taskin. Another spell of passing showers added to the intrigue as Bangladesh were behind as per DLS calculations. Play resumed though, and Mustafizur Rahman had to play out the last ball of the 19th over to allow Litton a chance to chase in the 20th. But that was not to be as Naveen trapped Mustafizur leg before to spark wild celebrations.    Brief Scores:Afghanistan 115/5 in 20 overs (Rahmanullah Gurbaz 43; Rishad Hossain 3-26) beat Bangladesh 105 in 17.5 overs (Litton Das 54*; Rashid Khan 4-23, Naveen Ul Haq 4-26) by 8 runs (DLS Method)    What next?    Bangladesh go back home, as do Australia. Afghanistan head to Trinidad where they face South Africa in the first semifinal.   ShareTweet', metadata={'source': 'https://www.cricbuzz.com/cricket-news/130856/rashid-khan-naveen-ul-haq-carry-afghanistan-to-world-cup-semis'})]\n"
     ]
    }
   ],
   "source": [
    "query = \"Who WON THE MATCH\"\n",
    "retireved_results=db.similarity_search(query)\n",
    "print(retireved_results[0].page_content)"
   ]
  },
  {
   "cell_type": "code",
   "execution_count": null,
   "metadata": {},
   "outputs": [],
   "source": [
    "## FAISS Vector Database\n",
    "from langchain_community.vectorstores import FAISS\n",
    "db = FAISS.from_documents(documents[:15], OpenAIEmbeddings())"
   ]
  },
  {
   "cell_type": "code",
   "execution_count": null,
   "metadata": {},
   "outputs": [],
   "source": [
    "!pip install llama-index\n",
    "\n",
    "# My OpenAI Key\n",
    "import os\n",
    "os.environ['OPENAI_API_KEY'] = \"\"\n",
    "\n",
    "\n",
    "import logging\n",
    "import sys\n",
    "import requests\n",
    "\n",
    "logging.basicConfig(stream=sys.stdout, level=logging.INFO)\n",
    "logging.getLogger().addHandler(logging.StreamHandler(stream=sys.stdout))\n",
    "\n",
    "from llama_index import VectorStoreIndex, SimpleDirectoryReader\n",
    "from IPython.display import Markdown, display\n",
    "\n",
    "# download paul graham's essay\n",
    "response = requests.get(\"https://www.dropbox.com/s/f6bmb19xdg0xedm/paul_graham_essay.txt?dl=1\")\n",
    "essay_txt = response.text\n",
    "with open(\"pg_essay.txt\", \"w\") as fp:\n",
    "  fp.write(essay_txt)\n",
    "  \n",
    "  \n",
    "  # load documents\n",
    "documents = SimpleDirectoryReader(input_files=['pg_essay.txt']).load_data()\n",
    "\n",
    "\n",
    "index = VectorStoreIndex.from_documents(documents)\n",
    "\n",
    "\n",
    "# set Logging to DEBUG for more detailed outputs\n",
    "query_engine = index.as_query_engine(similarity_top_k=2)\n",
    "\n",
    "response = query_engine.query(\n",
    "    \"What did the author do growing up?\",\n",
    ")\n",
    "\n",
    "\n",
    "print(response.source_nodes[0].node.get_text())"
   ]
  },
  {
   "cell_type": "code",
   "execution_count": null,
   "metadata": {},
   "outputs": [],
   "source": [
    "import os\n",
    "from llama_index.postprocessor.cohere_rerank import CohereRerank\n",
    "\n",
    "api_key = os.environ[\"COHERE_API_KEY\"]\n",
    "cohere_rerank = CohereRerank(api_key=api_key, top_n=2) # return top 2 nodes from reranker\n",
    "\n",
    "query_engine = index.as_query_engine(\n",
    "    similarity_top_k=10, # we can set a high top_k here to ensure maximum relevant retrieval\n",
    "    node_postprocessors=[cohere_rerank], # pass the reranker to node_postprocessors\n",
    ")\n",
    "\n",
    "response = query_engine.query(\n",
    "    \"What did Elon Musk do?\",\n",
    ")"
   ]
  },
  {
   "cell_type": "code",
   "execution_count": 3,
   "metadata": {},
   "outputs": [
    {
     "name": "stdout",
     "output_type": "stream",
     "text": [
      "Title: Luxury living with Raffles in Cambodia\n",
      "Description: <p>For discerning travellers visiting Cambodia who are looking for a luxury living experience, an experience full of unforgettable moments...</p>\n",
      "<p>The post <a href=\"https://www.aluxurytravelblog.com/2024/06/25/luxury-living-with-raffles-in-cambodia/\">Luxury living with Raffles in Cambodia</a> appeared first on <a href=\"https://www.aluxurytravelblog.com\">A Luxury Travel Blog</a>.</p>\n",
      "\n",
      "Link: https://www.aluxurytravelblog.com/2024/06/25/luxury-living-with-raffles-in-cambodia/\n",
      "Publication Date: Tue, 25 Jun 2024 11:07:00 +0000\n",
      "Creator: Paul Eyers\n",
      "---\n",
      "Title: Why Botswana is the perfect luxury safari experience\n",
      "Description: <p>A diversity of wildlife, landscapes and luxury lodges is what makes Botswana such a special destination. Also, it is...</p>\n",
      "<p>The post <a href=\"https://www.aluxurytravelblog.com/2024/06/24/botswana-luxury-safari-experience/\">Why Botswana is the perfect luxury safari experience</a> appeared first on <a href=\"https://www.aluxurytravelblog.com\">A Luxury Travel Blog</a>.</p>\n",
      "\n",
      "Link: https://www.aluxurytravelblog.com/2024/06/24/botswana-luxury-safari-experience/\n",
      "Publication Date: Mon, 24 Jun 2024 11:24:00 +0000\n",
      "Creator: Valery Collins\n",
      "---\n",
      "Title: Review: voco Johannesburg Rosebank, Gauteng, South Africa\n",
      "Description: <p>Rising high in the heart of Rosebank, arguably Johannesburg’s most popular suburbs, the 16-storey The Bank is home to...</p>\n",
      "<p>The post <a href=\"https://www.aluxurytravelblog.com/2024/06/23/review-voco-johannesburg-rosebank-gauteng-south-africa/\">Review: voco Johannesburg Rosebank, Gauteng, South Africa</a> appeared first on <a href=\"https://www.aluxurytravelblog.com\">A Luxury Travel Blog</a>.</p>\n",
      "\n",
      "Link: https://www.aluxurytravelblog.com/2024/06/23/review-voco-johannesburg-rosebank-gauteng-south-africa/\n",
      "Publication Date: Sun, 23 Jun 2024 11:02:00 +0000\n",
      "Creator: Jared Ruttenberg\n",
      "---\n",
      "Title: 10 reasons to put Easter Island on your South American itinerary\n",
      "Description: <p>One of the most remote spots on Earth, Easter Island is a tiny speck of land possessing more mystical...</p>\n",
      "<p>The post <a href=\"https://www.aluxurytravelblog.com/2024/06/22/10-reasons-to-put-easter-island-on-your-south-american-itinerary/\">10 reasons to put Easter Island on your South American itinerary</a> appeared first on <a href=\"https://www.aluxurytravelblog.com\">A Luxury Travel Blog</a>.</p>\n",
      "\n",
      "Link: https://www.aluxurytravelblog.com/2024/06/22/10-reasons-to-put-easter-island-on-your-south-american-itinerary/\n",
      "Publication Date: Sat, 22 Jun 2024 11:09:00 +0000\n",
      "Creator: Alfonso Tandazo\n",
      "---\n",
      "Title: Churchill Wild: Where luxury meets polar bears – at ground level\n",
      "Description: <p>Deep in the heart of polar bear country at three remote “Arctic” luxury ecolodges on Canada’s Hudson Bay coast, Churchill Wild...</p>\n",
      "<p>The post <a href=\"https://www.aluxurytravelblog.com/2024/06/20/churchill-wild-luxury-polar-bear-walks-at-ground-level/\">Churchill Wild: Where luxury meets polar bears – at ground level</a> appeared first on <a href=\"https://www.aluxurytravelblog.com\">A Luxury Travel Blog</a>.</p>\n",
      "\n",
      "Link: https://www.aluxurytravelblog.com/2024/06/20/churchill-wild-luxury-polar-bear-walks-at-ground-level/\n",
      "Publication Date: Thu, 20 Jun 2024 16:23:13 +0000\n",
      "Creator: Paul Johnson\n",
      "---\n",
      "Title: The 6 best luxury spa destinations around the world (+ tips!)\n",
      "Description: <p>Tired of the hustle and bustle of your daily life? The perfect solution might just be a spa retreat...</p>\n",
      "<p>The post <a href=\"https://www.aluxurytravelblog.com/2024/06/19/the-6-best-luxury-spa-destinations-around-the-world-tips/\">The 6 best luxury spa destinations around the world (+ tips!)</a> appeared first on <a href=\"https://www.aluxurytravelblog.com\">A Luxury Travel Blog</a>.</p>\n",
      "\n",
      "Link: https://www.aluxurytravelblog.com/2024/06/19/the-6-best-luxury-spa-destinations-around-the-world-tips/\n",
      "Publication Date: Wed, 19 Jun 2024 07:55:37 +0000\n",
      "Creator: Efrat Sagi-Ofir\n",
      "---\n",
      "Title: The Big Waterfall at Plitvice Lakes National Park\n",
      "Description: <p>Every year, Plitvice Lakes National Park attracts visitors from all over the world. When Plitvice Lakes are mentioned, the...</p>\n",
      "<p>The post <a href=\"https://www.aluxurytravelblog.com/2024/06/18/the-big-waterfall-at-plitvice-lakes-national-park/\">The Big Waterfall at Plitvice Lakes National Park</a> appeared first on <a href=\"https://www.aluxurytravelblog.com\">A Luxury Travel Blog</a>.</p>\n",
      "\n",
      "Link: https://www.aluxurytravelblog.com/2024/06/18/the-big-waterfall-at-plitvice-lakes-national-park/\n",
      "Publication Date: Tue, 18 Jun 2024 22:09:10 +0000\n",
      "Creator: Tomislav Kovačević\n",
      "---\n",
      "Title: Experience the best of Arrábida and the Setúbal Peninsula\n",
      "Description: <p>A mere 35 kilometres south of Lisbon, Portugal&#8217;s Arrábida region spans the municipalities of Palmela, Sesimbra and Setúbal and...</p>\n",
      "<p>The post <a href=\"https://www.aluxurytravelblog.com/2024/06/17/experience-the-best-of-arrabida-and-the-setubal-peninsula/\">Experience the best of Arrábida and the Setúbal Peninsula</a> appeared first on <a href=\"https://www.aluxurytravelblog.com\">A Luxury Travel Blog</a>.</p>\n",
      "\n",
      "Link: https://www.aluxurytravelblog.com/2024/06/17/experience-the-best-of-arrabida-and-the-setubal-peninsula/\n",
      "Publication Date: Mon, 17 Jun 2024 22:35:53 +0000\n",
      "Creator: Paul Johnson\n",
      "---\n",
      "Title: South Africa’s Garden Route: The 5 best luxury lodges\n",
      "Description: <p>The Garden Route in South Africa is an area stretching for 124 miles through the Western Cape between Mossel...</p>\n",
      "<p>The post <a href=\"https://www.aluxurytravelblog.com/2024/06/15/south-africas-garden-route-the-5-best-luxury-lodges/\">South Africa’s Garden Route: The 5 best luxury lodges</a> appeared first on <a href=\"https://www.aluxurytravelblog.com\">A Luxury Travel Blog</a>.</p>\n",
      "\n",
      "Link: https://www.aluxurytravelblog.com/2024/06/15/south-africas-garden-route-the-5-best-luxury-lodges/\n",
      "Publication Date: Sat, 15 Jun 2024 22:40:02 +0000\n",
      "Creator: Simon Williams\n",
      "---\n",
      "Title: Review: Hotel Casa Palmela, Parque Natural da Arrábida, Portugal\n",
      "Description: <p>Hotel Casa Palmela is a gem of a hotel with so many wonderful attributes that it’s difficult to know...</p>\n",
      "<p>The post <a href=\"https://www.aluxurytravelblog.com/2024/06/13/review-hotel-casa-palmela-parque-natural-da-arrabida-portugal/\">Review: Hotel Casa Palmela, Parque Natural da Arrábida, Portugal</a> appeared first on <a href=\"https://www.aluxurytravelblog.com\">A Luxury Travel Blog</a>.</p>\n",
      "\n",
      "Link: https://www.aluxurytravelblog.com/2024/06/13/review-hotel-casa-palmela-parque-natural-da-arrabida-portugal/\n",
      "Publication Date: Thu, 13 Jun 2024 18:15:59 +0000\n",
      "Creator: Paul Johnson\n",
      "---\n",
      "Title: A guide to Kiwi cuisine: New Zealand’s food scene\n",
      "Description: <p>New Zealand is renowned for its awe-inspiring scenery, cultural tapestry and eclectic culinary scene. New Zealand’s population is remarkably...</p>\n",
      "<p>The post <a href=\"https://www.aluxurytravelblog.com/2024/06/12/a-guide-to-kiwi-cuisine-new-zealands-food-scene/\">A guide to Kiwi cuisine: New Zealand&#8217;s food scene</a> appeared first on <a href=\"https://www.aluxurytravelblog.com\">A Luxury Travel Blog</a>.</p>\n",
      "\n",
      "Link: https://www.aluxurytravelblog.com/2024/06/12/a-guide-to-kiwi-cuisine-new-zealands-food-scene/\n",
      "Publication Date: Wed, 12 Jun 2024 22:48:39 +0000\n",
      "Creator: Veronika Vermeulen\n",
      "---\n",
      "Title: Barcelona’s architectural gems: Exploring Gaudí’s masterpieces\n",
      "Description: <p>Barcelona has some of the best architecture in the world, and much of that can be credited to the...</p>\n",
      "<p>The post <a href=\"https://www.aluxurytravelblog.com/2024/06/11/barcelonas-architectural-gems-exploring-gaudis-masterpieces/\">Barcelona&#8217;s architectural gems: Exploring Gaudí&#8217;s masterpieces</a> appeared first on <a href=\"https://www.aluxurytravelblog.com\">A Luxury Travel Blog</a>.</p>\n",
      "\n",
      "Link: https://www.aluxurytravelblog.com/2024/06/11/barcelonas-architectural-gems-exploring-gaudis-masterpieces/\n",
      "Publication Date: Tue, 11 Jun 2024 22:50:46 +0000\n",
      "Creator: Sandra Roig\n",
      "---\n",
      "Title: 4 new Swedish restaurants awarded Michelin Stars\n",
      "Description: <p>Sweden&#8217;s culinary landscape continues to captivate global attention, as evidenced by the latest additions to the prestigious Michelin Guide....</p>\n",
      "<p>The post <a href=\"https://www.aluxurytravelblog.com/2024/06/10/4-new-swedish-restaurants-awarded-michelin-stars/\">4 new Swedish restaurants awarded Michelin Stars</a> appeared first on <a href=\"https://www.aluxurytravelblog.com\">A Luxury Travel Blog</a>.</p>\n",
      "\n",
      "Link: https://www.aluxurytravelblog.com/2024/06/10/4-new-swedish-restaurants-awarded-michelin-stars/\n",
      "Publication Date: Sun, 09 Jun 2024 23:37:11 +0000\n",
      "Creator: Paul Johnson\n",
      "---\n",
      "Title: The perfect holiday itinerary for the ultimate West Canada adventure\n",
      "Description: <p>Western Canada is a destination that should be on your wish list! The sheer size and scale of the...</p>\n",
      "<p>The post <a href=\"https://www.aluxurytravelblog.com/2024/06/09/the-perfect-holiday-itinerary-for-the-ultimate-west-canada-adventure/\">The perfect holiday itinerary for the ultimate West Canada adventure</a> appeared first on <a href=\"https://www.aluxurytravelblog.com\">A Luxury Travel Blog</a>.</p>\n",
      "\n",
      "Link: https://www.aluxurytravelblog.com/2024/06/09/the-perfect-holiday-itinerary-for-the-ultimate-west-canada-adventure/\n",
      "Publication Date: Sun, 09 Jun 2024 22:48:36 +0000\n",
      "Creator: James Bell\n",
      "---\n",
      "Title: Review: Pel’s Post at The Outpost Lodge, Kruger National Park, South Africa\n",
      "Description: <p>The Kruger National Park is South Africa&#8217;s biggest park, encompassing a staggering 2 million hectares of wilderness. The majority...</p>\n",
      "<p>The post <a href=\"https://www.aluxurytravelblog.com/2024/06/07/review-pels-post-at-the-outpost-lodge-kruger-national-park-south-africa/\">Review: Pel&#8217;s Post at The Outpost Lodge, Kruger National Park, South Africa</a> appeared first on <a href=\"https://www.aluxurytravelblog.com\">A Luxury Travel Blog</a>.</p>\n",
      "\n",
      "Link: https://www.aluxurytravelblog.com/2024/06/07/review-pels-post-at-the-outpost-lodge-kruger-national-park-south-africa/\n",
      "Publication Date: Thu, 06 Jun 2024 23:27:34 +0000\n",
      "Creator: Jared Ruttenberg\n",
      "---\n",
      "Title: Today is National Sweden Day: 5 top tips on how to celebrate like a true Swede\n",
      "Description: <p>On 6 June Swedes celebrate the National Day in honor of two historical events: Gustav Vasa being elected king...</p>\n",
      "<p>The post <a href=\"https://www.aluxurytravelblog.com/2024/06/06/today-is-national-sweden-day-5-top-tips-on-how-to-celebrate-like-a-true-swede/\">Today is National Sweden Day: 5 top tips on how to celebrate like a true Swede</a> appeared first on <a href=\"https://www.aluxurytravelblog.com\">A Luxury Travel Blog</a>.</p>\n",
      "\n",
      "Link: https://www.aluxurytravelblog.com/2024/06/06/today-is-national-sweden-day-5-top-tips-on-how-to-celebrate-like-a-true-swede/\n",
      "Publication Date: Thu, 06 Jun 2024 11:07:13 +0000\n",
      "Creator: Paul Johnson\n",
      "---\n",
      "Title: Review: 02 Beach Club and Spa, Christ Church, Barbados\n",
      "Description: <p>There are plenty of all-inclusive resorts in Barbados to choose from but the O2 Beach Club and Spa elevates...</p>\n",
      "<p>The post <a href=\"https://www.aluxurytravelblog.com/2024/06/02/review-02-beach-club-and-spa-christ-church-barbados/\">Review: 02 Beach Club and Spa, Christ Church, Barbados</a> appeared first on <a href=\"https://www.aluxurytravelblog.com\">A Luxury Travel Blog</a>.</p>\n",
      "\n",
      "Link: https://www.aluxurytravelblog.com/2024/06/02/review-02-beach-club-and-spa-christ-church-barbados/\n",
      "Publication Date: Sun, 02 Jun 2024 15:59:08 +0000\n",
      "Creator: Michael Edwards\n",
      "---\n",
      "Title: 5 highlights of Hunan Province in China\n",
      "Description: <p>Hunan, a province located in central China is a brazen mix of opposites, old and new, clatter and calm,...</p>\n",
      "<p>The post <a href=\"https://www.aluxurytravelblog.com/2024/06/02/5-highlights-of-hunan-province-in-china/\">5 highlights of Hunan Province in China</a> appeared first on <a href=\"https://www.aluxurytravelblog.com\">A Luxury Travel Blog</a>.</p>\n",
      "\n",
      "Link: https://www.aluxurytravelblog.com/2024/06/02/5-highlights-of-hunan-province-in-china/\n",
      "Publication Date: Sun, 02 Jun 2024 14:47:55 +0000\n",
      "Creator: Valery Collins\n",
      "---\n",
      "Title: Luxury travel gifts and accessories for your next trip – US & Canada edition\n",
      "Description: <p>Are you looking forward to your next adventure? Whether you&#8217;re jetting off to a far-flung tropical paradise or simply...</p>\n",
      "<p>The post <a href=\"https://www.aluxurytravelblog.com/2024/05/31/luxury-travel-gifts-and-accessories-for-your-next-trip-us-canada-edition-5/\">Luxury travel gifts and accessories for your next trip &#8211; US &amp; Canada edition</a> appeared first on <a href=\"https://www.aluxurytravelblog.com\">A Luxury Travel Blog</a>.</p>\n",
      "\n",
      "Link: https://www.aluxurytravelblog.com/2024/05/31/luxury-travel-gifts-and-accessories-for-your-next-trip-us-canada-edition-5/\n",
      "Publication Date: Fri, 31 May 2024 22:34:43 +0000\n",
      "Creator: Paul Johnson\n",
      "---\n",
      "Title: Luxury travel news from around the world (May 2024)\n",
      "Description: <p>Our latest round-up of luxury travel news highlights a wide variety of new and exciting happenings. From Ritz-Carlton Reserve...</p>\n",
      "<p>The post <a href=\"https://www.aluxurytravelblog.com/2024/05/31/luxury-travel-news-from-around-the-world-may-2024/\">Luxury travel news from around the world (May 2024)</a> appeared first on <a href=\"https://www.aluxurytravelblog.com\">A Luxury Travel Blog</a>.</p>\n",
      "\n",
      "Link: https://www.aluxurytravelblog.com/2024/05/31/luxury-travel-news-from-around-the-world-may-2024/\n",
      "Publication Date: Fri, 31 May 2024 21:28:05 +0000\n",
      "Creator: Paul Johnson\n",
      "---\n"
     ]
    }
   ],
   "source": [
    "import requests\n",
    "import xml.etree.ElementTree as ET\n",
    "\n",
    "# URL of the RSS feed\n",
    "url = \"https://www.aluxurytravelblog.com/feed/\"\n",
    "\n",
    "# Headers to mimic a browser request\n",
    "headers = {\n",
    "    'User-Agent': 'Mozilla/5.0 (Windows NT 10.0; Win64; x64) AppleWebKit/537.36 (KHTML, like Gecko) Chrome/91.0.4472.124 Safari/537.36'\n",
    "}\n",
    "\n",
    "# Fetch the content of the RSS feed\n",
    "response = requests.get(url, headers=headers)\n",
    "response.raise_for_status()  # Raises an HTTPError for bad responses\n",
    "\n",
    "# Parse the XML content of the feed\n",
    "root = ET.fromstring(response.content)\n",
    "\n",
    "# Iterate through each item in the RSS feed\n",
    "for item in root.findall('.//item'):\n",
    "    title = item.find('title').text\n",
    "    description = item.find('description').text\n",
    "    link = item.find('link').text\n",
    "    pub_date = item.find('pubDate').text\n",
    "    creator = item.find('{http://purl.org/dc/elements/1.1/}creator').text\n",
    "\n",
    "    print(f'Title: {title}')\n",
    "    print(f'Description: {description}')\n",
    "    print(f'Link: {link}')\n",
    "    print(f'Publication Date: {pub_date}')\n",
    "    print(f'Creator: {creator}')\n",
    "    print('---')\n"
   ]
  },
  {
   "cell_type": "code",
   "execution_count": null,
   "metadata": {},
   "outputs": [],
   "source": [
    "content-wrap"
   ]
  },
  {
   "cell_type": "code",
   "execution_count": null,
   "metadata": {},
   "outputs": [],
   "source": []
  },
  {
   "cell_type": "code",
   "execution_count": null,
   "metadata": {},
   "outputs": [],
   "source": []
  },
  {
   "cell_type": "code",
   "execution_count": null,
   "metadata": {},
   "outputs": [],
   "source": []
  },
  {
   "cell_type": "code",
   "execution_count": null,
   "metadata": {},
   "outputs": [],
   "source": []
  },
  {
   "cell_type": "code",
   "execution_count": null,
   "metadata": {},
   "outputs": [],
   "source": []
  },
  {
   "cell_type": "code",
   "execution_count": null,
   "metadata": {},
   "outputs": [],
   "source": []
  },
  {
   "cell_type": "code",
   "execution_count": null,
   "metadata": {},
   "outputs": [],
   "source": []
  },
  {
   "cell_type": "code",
   "execution_count": null,
   "metadata": {},
   "outputs": [],
   "source": []
  }
 ],
 "metadata": {
  "kernelspec": {
   "display_name": "Python 3",
   "language": "python",
   "name": "python3"
  },
  "language_info": {
   "codemirror_mode": {
    "name": "ipython",
    "version": 3
   },
   "file_extension": ".py",
   "mimetype": "text/x-python",
   "name": "python",
   "nbconvert_exporter": "python",
   "pygments_lexer": "ipython3",
   "version": "3.11.7"
  }
 },
 "nbformat": 4,
 "nbformat_minor": 2
}
